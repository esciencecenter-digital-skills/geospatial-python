{
 "cells": [
  {
   "cell_type": "markdown",
   "id": "049e0dc8",
   "metadata": {},
   "source": [
    "-   How can I crop my raster data to the area of interest?\n",
    "\n",
    "-   Crop raster data with a bounding box.\n",
    "-   Crop raster data with a polygon.\n",
    "-   Match two raster datasets in different CRS.\n",
    "\n",
    "It is quite common that the raster data you have in hand is too large to process, or not all the pixels are relevant to your area of interest (AoI). In both situations, you should consider cropping your raster data before performing data analysis.\n",
    "\n",
    "In this episode, we will introduce how to crop raster data into the desired area. We will use one Sentinel-2 image over Amsterdam as the example raster data, and introduce how to crop your data to different types of AoIs.\n",
    "\n",
    "## Introduce the Data\n",
    "\n",
    "We will use the results of the satellite image search: `search.json`, which is generated in an exercise from\n",
    "[Episode 5: Access satellite imagery using Python](05-access-data.md).\n",
    "\n",
    "If you would like to work with the data for this lesson without downloading data on-the-fly, you can download the\n",
    "raster data using this [link](https://figshare.com/ndownloader/files/36028100). Save the `geospatial-python-raster-dataset.tar.gz`\n",
    "file in your current working directory, and extract the archive file by double-clicking on it or by running the\n",
    "following command in your terminal `tar -zxvf geospatial-python-raster-dataset.tar.gz`. Use the file `geospatial-python-raster-dataset/search.json`\n",
    "(instead of `search.json`) to get started with this lesson.\n",
    "\n",
    "We also use the cropped fields polygons `fields_cropped.shp`, which was generated in an exercise from [Episode 7: Vector data in python](07-vector-data-in-python.md).\n",
    "\n",
    "## Align the CRS of the raster and the vector data\n",
    "\n",
    "We load a true color image using `pystac` and `rioxarray` and check the shape of the raster:"
   ]
  },
  {
   "cell_type": "code",
   "execution_count": null,
   "id": "d0489d44",
   "metadata": {},
   "outputs": [],
   "source": [
    "import pystac\n",
    "import rioxarray\n",
    "\n",
    "# Load image and inspect the shape\n",
    "items = pystac.ItemCollection.from_file(\"search.json\")\n",
    "raster = rioxarray.open_rasterio(items[1].assets[\"visual\"].href) # Select a true color image\n",
    "print(raster.shape)"
   ]
  },
  {
   "cell_type": "markdown",
   "id": "02232372",
   "metadata": {},
   "source": [
    "``` output\n",
    "(3, 10980, 10980)\n",
    "```\n",
    "\n",
    "This will perform a “lazy” loading of the image, i.e. the image will not be loaded into the memory until necessary, but we can still access some attributes, e.g. the shape of the image.\n",
    "\n",
    "The large size of the raster data makes it time and memory consuming to visualize in its entirety. Instead, we can fetch and plot the overviews of the raster. “Overviews” are precomputed lower resolution representations of a raster, stored in the same COG that contains the original raster."
   ]
  },
  {
   "cell_type": "code",
   "execution_count": null,
   "id": "ef68f951",
   "metadata": {},
   "outputs": [],
   "source": [
    "# Get the overview asset\n",
    "raster_overview = rioxarray.open_rasterio(items[1].assets[\"visual\"].href, overview_level=3)\n",
    "print(raster_overview.shape)\n",
    "\n",
    "# Visualize it\n",
    "raster_overview.plot.imshow(figsize=(8,8))"
   ]
  },
  {
   "cell_type": "markdown",
   "id": "60e7742d",
   "metadata": {},
   "source": [
    "<img src=\"attachment:fig/E08/crop-raster-overview-raster-00.png\" alt=\"Overview of the raster\" />\n",
    "\n",
    "As we can see, the overview image is much smaller compared to the original true color image.\n",
    "\n",
    "To align the raster and vector data, we first check each coordinate system. For raster data, we use `pyproj.CRS`:"
   ]
  },
  {
   "cell_type": "code",
   "execution_count": null,
   "id": "f952bf8f",
   "metadata": {},
   "outputs": [],
   "source": [
    "from pyproj import CRS\n",
    "\n",
    "# Check the coordinate system\n",
    "CRS(raster.rio.crs)"
   ]
  },
  {
   "cell_type": "markdown",
   "id": "47b09b0b",
   "metadata": {},
   "source": [
    "``` output\n",
    "<Derived Projected CRS: EPSG:32631>\n",
    "Name: WGS 84 / UTM zone 31N\n",
    "Axis Info [cartesian]:\n",
    "- [east]: Easting (metre)\n",
    "- [north]: Northing (metre)\n",
    "Area of Use:\n",
    "- undefined\n",
    "Coordinate Operation:\n",
    "- name: UTM zone 31N\n",
    "- method: Transverse Mercator\n",
    "Datum: World Geodetic System 1984\n",
    "- Ellipsoid: WGS 84\n",
    "- Prime Meridian: Greenwich\n",
    "```\n",
    "\n",
    "To open and check the coordinate system of vector data, we use `geopandas`:"
   ]
  },
  {
   "cell_type": "code",
   "execution_count": null,
   "id": "61011bac",
   "metadata": {},
   "outputs": [],
   "source": [
    "import geopandas as gpd\n",
    "\n",
    "# Load the polygons of the crop fields\n",
    "fields = gpd.read_file(\"fields_cropped.shp\")\n",
    "\n",
    "# Check the coordinate system\n",
    "fields.crs"
   ]
  },
  {
   "cell_type": "markdown",
   "id": "696693f1",
   "metadata": {},
   "source": [
    "``` output\n",
    "<Derived Projected CRS: EPSG:28992>\n",
    "Name: Amersfoort / RD New\n",
    "Axis Info [cartesian]:\n",
    "- X[east]: Easting (metre)\n",
    "- Y[north]: Northing (metre)\n",
    "Area of Use:\n",
    "- name: Netherlands - onshore, including Waddenzee, Dutch Wadden Islands and 12-mile offshore coastal zone.\n",
    "- bounds: (3.2, 50.75, 7.22, 53.7)\n",
    "Coordinate Operation:\n",
    "- name: RD New\n",
    "- method: Oblique Stereographic\n",
    "Datum: Amersfoort\n",
    "- Ellipsoid: Bessel 1841\n",
    "- Prime Meridian: Greenwich\n",
    "```\n",
    "\n",
    "As seen, the coordinate systems differ. To crop the raster using the shapefile, we first need to reproject one dataset to the other’s CRS. Since `raster` is large, we will convert the CRS of `fields` to the CRS of `raster` to avoid loading the entire image:"
   ]
  },
  {
   "cell_type": "code",
   "execution_count": null,
   "id": "ce50e3aa",
   "metadata": {},
   "outputs": [],
   "source": [
    "fields = fields.to_crs(raster.rio.crs)"
   ]
  },
  {
   "cell_type": "markdown",
   "id": "ad442b27",
   "metadata": {},
   "source": [
    "## Crop raster data with a bounding box\n",
    "\n",
    "The `clip_box` function allows one to crop a raster by the\n",
    "min/max of the x and y coordinates. Note that we are cropping the original image `raster` now, and not the overview image `raster_overview`."
   ]
  },
  {
   "cell_type": "code",
   "execution_count": null,
   "id": "74826161",
   "metadata": {},
   "outputs": [],
   "source": [
    "# Crop the raster with the bounding box\n",
    "raster_clip_box = raster.rio.clip_box(*fields.total_bounds)\n",
    "print(raster_clip_box.shape)"
   ]
  },
  {
   "cell_type": "markdown",
   "id": "b412dcf6",
   "metadata": {},
   "source": [
    "``` output\n",
    "(3, 1565, 1565)\n",
    "```\n",
    "\n",
    "We successfully cropped the raster to a much smaller piece. We can visualize it now:"
   ]
  },
  {
   "cell_type": "code",
   "execution_count": null,
   "id": "7f767204",
   "metadata": {},
   "outputs": [],
   "source": [
    "raster_clip_box.plot.imshow(figsize=(8,8))"
   ]
  },
  {
   "cell_type": "markdown",
   "id": "e64576bc",
   "metadata": {},
   "source": [
    "<img src=\"attachment:fig/E08/crop-raster-crop-by-bb-02.png\" alt=\"Raster cropped by a bounding box\" />\n",
    "\n",
    "This cropped image can be saved for later usage:"
   ]
  },
  {
   "cell_type": "code",
   "execution_count": null,
   "id": "e1981928",
   "metadata": {},
   "outputs": [],
   "source": [
    "raster_clip_box.rio.to_raster(\"raster_clip.tif\")"
   ]
  },
  {
   "cell_type": "markdown",
   "id": "330f0158",
   "metadata": {},
   "source": [
    "## Crop raster data with polygons\n",
    "\n",
    "We have a cropped image around the fields. To further analyze the fields, one may want to crop the image to the exact field boundaries.\n",
    "This can be done with the `clip` function:"
   ]
  },
  {
   "cell_type": "code",
   "execution_count": null,
   "id": "eb9ea7b7",
   "metadata": {},
   "outputs": [],
   "source": [
    "raster_clip_fields = raster_clip_box.rio.clip(fields['geometry'])"
   ]
  },
  {
   "cell_type": "markdown",
   "id": "f0a1fb5d",
   "metadata": {},
   "source": [
    "And we can visualize the results:"
   ]
  },
  {
   "cell_type": "code",
   "execution_count": null,
   "id": "de7ef145",
   "metadata": {},
   "outputs": [],
   "source": [
    "raster_clip_fields.plot.imshow(figsize=(8,8))"
   ]
  },
  {
   "cell_type": "markdown",
   "id": "9195ba89",
   "metadata": {},
   "source": [
    "<img src=\"attachment:fig/E08/crop-raster-crop-fields.png\" alt=\"Ratser cropped by field polygons\" />\n",
    "\n",
    "## Exercise: crop raster data with a specific code\n",
    "\n",
    "In the column “gewascode” (translated as “crop code”) of `fields`, you can find the code representing the types of plants grown in each field. Can you:\n",
    "\n",
    "1.  Select the fields with “gewascode” equal to `257`;\n",
    "2.  Crop the raster `raster_clip_box` with the selected fields;\n",
    "3.  Visualize the cropped image."
   ]
  },
  {
   "cell_type": "code",
   "execution_count": null,
   "id": "4fc04bbd",
   "metadata": {},
   "outputs": [],
   "source": [
    "mask = fields['gewascode']==257\n",
    "fields_gwascode = fields.where(mask)\n",
    "fields_gwascode = fields_gwascode.dropna()\n",
    "raster_clip_fields_gwascode = raster_clip_box.rio.clip(fields_gwascode['geometry'])\n",
    "raster_clip_fields_gwascode.plot.imshow(figsize=(8,8))"
   ]
  },
  {
   "cell_type": "markdown",
   "id": "672a46c3",
   "metadata": {},
   "source": [
    "<img src=\"attachment:fig/E08/crop-raster-fields-gewascode.png\" alt=\"Raster croped by fields with gewascode 257\" />\n",
    "\n",
    "## Crop raster data using `reproject_match()` function\n",
    "\n",
    "So far we have learned how to crop raster images with vector data. We can also crop a raster with another raster data. In this section, we will demonstrate how to crop the `raster_clip_box` image using the `raster_clip_fields_gwascode` image. We will use the `reproject_match` function. As indicated by its name, it performs reprojection and clipping in one go.\n",
    "\n",
    "To demonstrate the reprojection, we will first reproject `raster_clip_fields_gwascode` to the RD CRS system, so it will be in a different CRS from `raster_clip_box`:"
   ]
  },
  {
   "cell_type": "code",
   "execution_count": null,
   "id": "07d6008a",
   "metadata": {},
   "outputs": [],
   "source": [
    "# Reproject to RD to make the CRS different from the \"raster\"\n",
    "raster_clip_fields_gwascode = raster_clip_fields_gwascode.rio.reproject(\"EPSG:28992\")\n",
    "CRS(raster_clip_fields_gwascode.rio.crs)"
   ]
  },
  {
   "cell_type": "markdown",
   "id": "c82aa43c",
   "metadata": {},
   "source": [
    "``` output\n",
    "<Derived Projected CRS: EPSG:28992>\n",
    "Name: Amersfoort / RD New\n",
    "Axis Info [cartesian]:\n",
    "- [east]: Easting (metre)\n",
    "- [north]: Northing (metre)\n",
    "Area of Use:\n",
    "- undefined\n",
    "Coordinate Operation:\n",
    "- name: unnamed\n",
    "- method: Oblique Stereographic\n",
    "Datum: Amersfoort\n",
    "- Ellipsoid: Bessel 1841\n",
    "- Prime Meridian: Greenwich\n",
    "```\n",
    "\n",
    "And let’s check again the CRS of `raster_clip_box`:"
   ]
  },
  {
   "cell_type": "code",
   "execution_count": null,
   "id": "bef824fb",
   "metadata": {},
   "outputs": [],
   "source": [
    "CRS(raster_clip_box.rio.crs)"
   ]
  },
  {
   "cell_type": "markdown",
   "id": "9de18cca",
   "metadata": {},
   "source": [
    "``` output\n",
    "<Derived Projected CRS: EPSG:32631>\n",
    "Name: WGS 84 / UTM zone 31N\n",
    "Axis Info [cartesian]:\n",
    "- [east]: Easting (metre)\n",
    "- [north]: Northing (metre)\n",
    "Area of Use:\n",
    "- undefined\n",
    "Coordinate Operation:\n",
    "- name: UTM zone 31N\n",
    "- method: Transverse Mercator\n",
    "Datum: World Geodetic System 1984\n",
    "- Ellipsoid: WGS 84\n",
    "- Prime Meridian: Greenwich\n",
    "```\n",
    "\n",
    "Now the two images are in different coordinate systems. We can use `rioxarray.reproject_match()` function to crop `raster_clip_box` image."
   ]
  },
  {
   "cell_type": "code",
   "execution_count": null,
   "id": "971962e0",
   "metadata": {},
   "outputs": [],
   "source": [
    "raster_reproject_match = raster_clip_box.rio.reproject_match(raster_clip_fields_gwascode)\n",
    "raster_reproject_match.plot.imshow(figsize=(8,8))"
   ]
  },
  {
   "cell_type": "markdown",
   "id": "00cda4f8",
   "metadata": {},
   "source": [
    "<img src=\"attachment:fig/E08/reprojectmatch-big-to-small.png\" alt=\"Reproject match big to small\" />\n",
    "\n",
    "We can also use it to expand `raster_clip_fields_gwascode` to the extent of `raster_clip_box`:"
   ]
  },
  {
   "cell_type": "code",
   "execution_count": null,
   "id": "a6fd18c4",
   "metadata": {},
   "outputs": [],
   "source": [
    "raster_reproject_match = raster_clip_fields_gwascode.rio.reproject_match(raster_clip_box)\n",
    "raster_reproject_match.plot.imshow(figsize=(8,8))"
   ]
  },
  {
   "cell_type": "markdown",
   "id": "7b4efce6",
   "metadata": {},
   "source": [
    "<img src=\"attachment:fig/E08/reprojectmatch-small-to-big.png\" alt=\"Reproject match small to big\" />\n",
    "\n",
    "In one line `reproject_match` does a lot of helpful things:\n",
    "\n",
    "1.  It reprojects.\n",
    "2.  It matches the extent using `nodata` values or by clipping the data.\n",
    "3.  It sets `nodata` values. This means we can run calculations on those two images.\n",
    "\n",
    "## Code Tip\n",
    "\n",
    "As we saw before, there also exists a method called `reproject()`, which only reprojects one raster to another projection. If you want more control over how rasters are resampled, clipped, and/or reprojected, you can use the `reproject()` method and other `rioxarray` methods individually.\n",
    "\n",
    "-   Use `clip_box` to crop a raster with a bounding box.\n",
    "-   Use `clip` to crop a raster with a given polygon.\n",
    "-   Use `reproject_match` to match two raster datasets."
   ]
  }
 ],
 "metadata": {
  "jupytext": {
   "main_language": "python"
  }
 },
 "nbformat": 4,
 "nbformat_minor": 5
}

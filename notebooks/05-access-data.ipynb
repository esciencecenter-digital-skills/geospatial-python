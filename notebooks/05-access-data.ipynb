{
 "cells": [
  {
   "cell_type": "markdown",
   "id": "414f17bb-a0c3-4e8e-8731-9ff7f9212cbe",
   "metadata": {},
   "source": [
    "## Search a STAC catalog"
   ]
  },
  {
   "cell_type": "code",
   "execution_count": 1,
   "id": "d97fb268-995e-441d-b13f-da2daad8953d",
   "metadata": {},
   "outputs": [],
   "source": [
    "api_url = 'https://earth-search.aws.element84.com/v1'"
   ]
  },
  {
   "cell_type": "code",
   "execution_count": 2,
   "id": "f82c3a1e",
   "metadata": {},
   "outputs": [],
   "source": [
    "from pystac_client import Client\n",
    "\n",
    "client = Client.open(api_url)"
   ]
  },
  {
   "cell_type": "code",
   "execution_count": 3,
   "id": "8b2ac22a",
   "metadata": {},
   "outputs": [],
   "source": [
    "collection = 'sentinel-2-l2a'  # Sentinel-2, Level 2A"
   ]
  },
  {
   "cell_type": "code",
   "execution_count": 4,
   "id": "58354d57",
   "metadata": {},
   "outputs": [],
   "source": [
    "from shapely.geometry import Point\n",
    "point = Point(27.95, 36.20)  # Rhodes"
   ]
  },
  {
   "cell_type": "code",
   "execution_count": 5,
   "id": "5cc0cd94-cf37-4c26-87ad-be56d70aaeb3",
   "metadata": {},
   "outputs": [],
   "source": [
    "search = client.search(\n",
    "    collections=[collection],\n",
    "    intersects=point,\n",
    ")"
   ]
  },
  {
   "cell_type": "code",
   "execution_count": 6,
   "id": "4dcb946d-4329-42ef-b632-c7d38dcfc105",
   "metadata": {},
   "outputs": [
    {
     "data": {
      "text/plain": [
       "513"
      ]
     },
     "execution_count": 6,
     "metadata": {},
     "output_type": "execute_result"
    }
   ],
   "source": [
    "search.matched()"
   ]
  },
  {
   "cell_type": "markdown",
   "id": "ef943104-e872-4d81-8d21-ab2fb18922d5",
   "metadata": {},
   "source": [
    "### Exercise: searching satellite scenes with a time filter\n",
    "\n",
    "Add a time filter to the search in order to select the only scenes recorded between 1 July and 31 August. You can find the input argument and the required syntax in the documentation of `client.search` (which you can access from Python or [online](https://pystac-client.readthedocs.io/en/stable/api.html#pystac_client.Client.search)). How many scenes do now match our search?"
   ]
  },
  {
   "cell_type": "code",
   "execution_count": 7,
   "id": "293df427-4f0b-4e33-9d75-533a5a4f8eaf",
   "metadata": {},
   "outputs": [],
   "source": [
    "search = client.search(\n",
    "    collections=[collection],\n",
    "    intersects=point,\n",
    "    datetime='2023-07-01/2023-08-31',\n",
    ")"
   ]
  },
  {
   "cell_type": "code",
   "execution_count": 8,
   "id": "69356d0d-7b2f-405d-9908-747bd5ab408c",
   "metadata": {},
   "outputs": [
    {
     "data": {
      "text/plain": [
       "12"
      ]
     },
     "execution_count": 8,
     "metadata": {},
     "output_type": "execute_result"
    }
   ],
   "source": [
    "search.matched()"
   ]
  },
  {
   "cell_type": "code",
   "execution_count": 9,
   "id": "fedfeec5-ace8-4e9c-be49-822aea682543",
   "metadata": {},
   "outputs": [],
   "source": [
    "items = search.item_collection()"
   ]
  },
  {
   "cell_type": "code",
   "execution_count": 10,
   "id": "3b0b3db0-eaa1-4c1d-9151-d72f6c925542",
   "metadata": {},
   "outputs": [
    {
     "data": {
      "text/plain": [
       "12"
      ]
     },
     "execution_count": 10,
     "metadata": {},
     "output_type": "execute_result"
    }
   ],
   "source": [
    "len(items)"
   ]
  },
  {
   "cell_type": "code",
   "execution_count": 11,
   "id": "4096ce56-2965-4789-ba7c-60001bad18fe",
   "metadata": {},
   "outputs": [
    {
     "name": "stdout",
     "output_type": "stream",
     "text": [
      "<Item id=S2A_35SNA_20230827_0_L2A>\n",
      "<Item id=S2B_35SNA_20230822_0_L2A>\n",
      "<Item id=S2A_35SNA_20230817_0_L2A>\n",
      "<Item id=S2B_35SNA_20230812_0_L2A>\n",
      "<Item id=S2A_35SNA_20230807_0_L2A>\n",
      "<Item id=S2B_35SNA_20230802_0_L2A>\n",
      "<Item id=S2A_35SNA_20230728_0_L2A>\n",
      "<Item id=S2B_35SNA_20230723_0_L2A>\n",
      "<Item id=S2A_35SNA_20230718_0_L2A>\n",
      "<Item id=S2B_35SNA_20230713_0_L2A>\n",
      "<Item id=S2A_35SNA_20230708_0_L2A>\n",
      "<Item id=S2B_35SNA_20230703_0_L2A>\n"
     ]
    }
   ],
   "source": [
    "for item in items:\n",
    "    print(item)"
   ]
  },
  {
   "cell_type": "code",
   "execution_count": 12,
   "id": "7c4a89fa-0238-4d94-8309-808c19c3c55b",
   "metadata": {},
   "outputs": [
    {
     "name": "stdout",
     "output_type": "stream",
     "text": [
      "2023-07-03 09:00:20.838000+00:00\n",
      "{'type': 'Polygon', 'coordinates': [[[27.300972793493344, 37.046192287628024], [28.234426643135546, 37.04015200857309], [28.21878905911668, 36.05053734221328], [27.0215827618405, 36.056731037977386], [27.244605547808312, 36.843576366095995], [27.300972793493344, 37.046192287628024]]]}\n",
      "{'created': '2023-07-03T16:57:15.486Z', 'platform': 'sentinel-2b', 'constellation': 'sentinel-2', 'instruments': ['msi'], 'eo:cloud_cover': 1.351987, 'proj:epsg': 32635, 'mgrs:utm_zone': 35, 'mgrs:latitude_band': 'S', 'mgrs:grid_square': 'NA', 'grid:code': 'MGRS-35SNA', 'view:sun_azimuth': 125.524648568983, 'view:sun_elevation': 69.1288988657908, 's2:degraded_msi_data_percentage': 0.0167, 's2:nodata_pixel_percentage': 12.999658, 's2:saturated_defective_pixel_percentage': 0, 's2:dark_features_percentage': 0.094058, 's2:cloud_shadow_percentage': 0.088758, 's2:vegetation_percentage': 7.767729, 's2:not_vegetated_percentage': 16.054803, 's2:water_percentage': 74.22775, 's2:unclassified_percentage': 0.414911, 's2:medium_proba_clouds_percentage': 0.98449, 's2:high_proba_clouds_percentage': 0.367413, 's2:thin_cirrus_percentage': 8.4e-05, 's2:snow_ice_percentage': 0, 's2:product_type': 'S2MSI2A', 's2:processing_baseline': '05.09', 's2:product_uri': 'S2B_MSIL2A_20230703T084609_N0509_R107_T35SNA_20230703T102441.SAFE', 's2:generation_time': '2023-07-03T10:24:41.000000Z', 's2:datatake_id': 'GS2B_20230703T084609_033023_N05.09', 's2:datatake_type': 'INS-NOBS', 's2:datastrip_id': 'S2B_OPER_MSI_L2A_DS_2BPS_20230703T102441_S20230703T084950_N05.09', 's2:granule_id': 'S2B_OPER_MSI_L2A_TL_2BPS_20230703T102441_A033023_T35SNA_N05.09', 's2:reflectance_conversion_factor': 0.967519239159557, 'datetime': '2023-07-03T09:00:20.838000Z', 's2:sequence': '0', 'earthsearch:s3_path': 's3://sentinel-cogs/sentinel-s2-l2a-cogs/35/S/NA/2023/7/S2B_35SNA_20230703_0_L2A', 'earthsearch:payload_id': 'roda-sentinel2/workflow-sentinel2-to-stac/4dbbbb414545d092e8640951d027dff4', 'earthsearch:boa_offset_applied': True, 'processing:software': {'sentinel2-to-stac': '0.1.0'}, 'updated': '2023-07-03T16:57:15.486Z'}\n"
     ]
    }
   ],
   "source": [
    "item = items[-1]\n",
    "print(item.datetime)\n",
    "print(item.geometry)\n",
    "print(item.properties)"
   ]
  },
  {
   "cell_type": "markdown",
   "id": "8ecd5b51-bb3a-4c3a-b008-66645a13caaa",
   "metadata": {},
   "source": [
    "### Exercise: searching satellite scenes using metadata filters\n",
    "\n",
    "Let's add a filter on the cloud cover to select the only scenes with less than 1% cloud coverage. How many scenes do now match our search?\n",
    "\n",
    "Hint: generic metadata filters can be implemented via the `query` input argument of `client.search`, which requires the following syntax (see [docs](https://pystac-client.readthedocs.io/en/stable/usage.html#query-extension)): `query=['<property><operator><value>']`."
   ]
  },
  {
   "cell_type": "code",
   "execution_count": 42,
   "id": "40168b5d",
   "metadata": {},
   "outputs": [],
   "source": [
    "search = client.search(\n",
    "    collections=[collection],\n",
    "    intersects=point,\n",
    "    datetime='2023-07-01/2023-08-31',\n",
    "    query=['eo:cloud_cover<1']\n",
    ")"
   ]
  },
  {
   "cell_type": "code",
   "execution_count": 43,
   "id": "4e9af3ee",
   "metadata": {},
   "outputs": [
    {
     "name": "stdout",
     "output_type": "stream",
     "text": [
      "11\n"
     ]
    }
   ],
   "source": [
    "print(search.matched())"
   ]
  },
  {
   "cell_type": "code",
   "execution_count": 44,
   "id": "daca0e4f-0090-4f5b-ad3d-6fcc0e02c538",
   "metadata": {},
   "outputs": [],
   "source": [
    "items = search.item_collection()"
   ]
  },
  {
   "cell_type": "code",
   "execution_count": 16,
   "id": "1ba72072-9ee2-476c-ae81-d455128f65dd",
   "metadata": {},
   "outputs": [],
   "source": [
    "items.save_object('rhodes_sentinel-2.json')"
   ]
  },
  {
   "cell_type": "markdown",
   "id": "37a9fe0f-4438-4156-9422-4a24c04cd8ef",
   "metadata": {},
   "source": [
    "## Access the assets"
   ]
  },
  {
   "cell_type": "code",
   "execution_count": 17,
   "id": "0e2c5a4b-9075-491c-ab96-489a78774704",
   "metadata": {},
   "outputs": [
    {
     "name": "stdout",
     "output_type": "stream",
     "text": [
      "dict_keys(['aot', 'blue', 'coastal', 'granule_metadata', 'green', 'nir', 'nir08', 'nir09', 'red', 'rededge1', 'rededge2', 'rededge3', 'scl', 'swir16', 'swir22', 'thumbnail', 'tileinfo_metadata', 'visual', 'wvp', 'aot-jp2', 'blue-jp2', 'coastal-jp2', 'green-jp2', 'nir-jp2', 'nir08-jp2', 'nir09-jp2', 'red-jp2', 'rededge1-jp2', 'rededge2-jp2', 'rededge3-jp2', 'scl-jp2', 'swir16-jp2', 'swir22-jp2', 'visual-jp2', 'wvp-jp2'])\n"
     ]
    }
   ],
   "source": [
    "assets = items[0].assets  # first item's asset dictionary\n",
    "print(assets.keys())"
   ]
  },
  {
   "cell_type": "code",
   "execution_count": 18,
   "id": "da733b04-d010-46cc-915f-daad27eaa7b9",
   "metadata": {},
   "outputs": [
    {
     "name": "stdout",
     "output_type": "stream",
     "text": [
      "aot: Aerosol optical thickness (AOT)\n",
      "blue: Blue (band 2) - 10m\n",
      "coastal: Coastal aerosol (band 1) - 60m\n",
      "granule_metadata: None\n",
      "green: Green (band 3) - 10m\n",
      "nir: NIR 1 (band 8) - 10m\n",
      "nir08: NIR 2 (band 8A) - 20m\n",
      "nir09: NIR 3 (band 9) - 60m\n",
      "red: Red (band 4) - 10m\n",
      "rededge1: Red edge 1 (band 5) - 20m\n",
      "rededge2: Red edge 2 (band 6) - 20m\n",
      "rededge3: Red edge 3 (band 7) - 20m\n",
      "scl: Scene classification map (SCL)\n",
      "swir16: SWIR 1 (band 11) - 20m\n",
      "swir22: SWIR 2 (band 12) - 20m\n",
      "thumbnail: Thumbnail image\n",
      "tileinfo_metadata: None\n",
      "visual: True color image\n",
      "wvp: Water vapour (WVP)\n",
      "aot-jp2: Aerosol optical thickness (AOT)\n",
      "blue-jp2: Blue (band 2) - 10m\n",
      "coastal-jp2: Coastal aerosol (band 1) - 60m\n",
      "green-jp2: Green (band 3) - 10m\n",
      "nir-jp2: NIR 1 (band 8) - 10m\n",
      "nir08-jp2: NIR 2 (band 8A) - 20m\n",
      "nir09-jp2: NIR 3 (band 9) - 60m\n",
      "red-jp2: Red (band 4) - 10m\n",
      "rededge1-jp2: Red edge 1 (band 5) - 20m\n",
      "rededge2-jp2: Red edge 2 (band 6) - 20m\n",
      "rededge3-jp2: Red edge 3 (band 7) - 20m\n",
      "scl-jp2: Scene classification map (SCL)\n",
      "swir16-jp2: SWIR 1 (band 11) - 20m\n",
      "swir22-jp2: SWIR 2 (band 12) - 20m\n",
      "visual-jp2: True color image\n",
      "wvp-jp2: Water vapour (WVP)\n"
     ]
    }
   ],
   "source": [
    "for key, asset in assets.items():\n",
    "    print(f\"{key}: {asset.title}\")"
   ]
  },
  {
   "cell_type": "code",
   "execution_count": 19,
   "id": "5c722822-5d50-4747-8a60-c2031458caeb",
   "metadata": {},
   "outputs": [
    {
     "data": {
      "text/plain": [
       "'https://sentinel-cogs.s3.us-west-2.amazonaws.com/sentinel-s2-l2a-cogs/35/S/NA/2023/8/S2A_35SNA_20230827_0_L2A/thumbnail.jpg'"
      ]
     },
     "execution_count": 19,
     "metadata": {},
     "output_type": "execute_result"
    }
   ],
   "source": [
    "assets[\"thumbnail\"].href"
   ]
  },
  {
   "cell_type": "markdown",
   "id": "ac520d7f-045b-4fc5-8df3-5fcd45ffb666",
   "metadata": {},
   "source": [
    "![](https://sentinel-cogs.s3.us-west-2.amazonaws.com/sentinel-s2-l2a-cogs/35/S/NA/2023/8/S2A_35SNA_20230827_0_L2A/thumbnail.jpg)"
   ]
  },
  {
   "cell_type": "code",
   "execution_count": 45,
   "id": "6b2a1450-67fb-403e-80c2-fb225d7e68f7",
   "metadata": {},
   "outputs": [
    {
     "data": {
      "text/plain": [
       "'https://sentinel-cogs.s3.us-west-2.amazonaws.com/sentinel-s2-l2a-cogs/35/S/NA/2023/7/S2A_35SNA_20230708_0_L2A/thumbnail.jpg'"
      ]
     },
     "execution_count": 45,
     "metadata": {},
     "output_type": "execute_result"
    }
   ],
   "source": [
    "items[-1].assets['thumbnail'].href"
   ]
  },
  {
   "cell_type": "markdown",
   "id": "4402640d-9632-4053-8acd-04d1c9efe3c5",
   "metadata": {},
   "source": [
    "![](https://sentinel-cogs.s3.us-west-2.amazonaws.com/sentinel-s2-l2a-cogs/35/S/NA/2023/7/S2A_35SNA_20230708_0_L2A/thumbnail.jpg)"
   ]
  },
  {
   "cell_type": "code",
   "execution_count": 21,
   "id": "8dc8a910-db27-4b9b-a0c9-2b0b9693c2e9",
   "metadata": {},
   "outputs": [],
   "source": [
    "import rioxarray\n",
    "\n",
    "red_href = assets['red'].href\n",
    "red = rioxarray.open_rasterio(red_href)\n",
    "red.rio.to_raster('red.tif', driver='COG')"
   ]
  },
  {
   "cell_type": "markdown",
   "id": "beb55ce4-fe9f-4a9e-9146-dcad447f4895",
   "metadata": {},
   "source": [
    "## Exercise: \n",
    "\n",
    "Let's put in practice what we have learned in this episode, and search for the tile of the global [Copernicus Digital Elevation Model (DEM)](https://spacedata.copernicus.eu/collections/copernicus-digital-elevation-model) that includes the island of Rhodes. Use the same STAC endpoint and coordinates as in the previous search, but modify the searched collection (the Copernicus DEM collection has ID: \"cop-dem-glo-30\"). Extract the URL pointing to the data from the item matching your search. How does it differ from the URL you got for the satellite images?"
   ]
  },
  {
   "cell_type": "code",
   "execution_count": 22,
   "id": "4d9c50ef-0232-4094-b21b-eb78e0b7f1a8",
   "metadata": {},
   "outputs": [],
   "source": [
    "search = client.search(\n",
    "    collections=['cop-dem-glo-30'],\n",
    "    intersects=point,\n",
    ")"
   ]
  },
  {
   "cell_type": "code",
   "execution_count": null,
   "id": "f2fd8f13-e64b-454a-b696-ff7b5b69703e",
   "metadata": {},
   "outputs": [],
   "source": [
    "items = search.item_collection()\n",
    "items[0].assets['data'].href"
   ]
  }
 ],
 "metadata": {
  "jupytext": {
   "main_language": "python"
  },
  "kernelspec": {
   "display_name": "Python 3 (ipykernel)",
   "language": "python",
   "name": "python3"
  },
  "language_info": {
   "codemirror_mode": {
    "name": "ipython",
    "version": 3
   },
   "file_extension": ".py",
   "mimetype": "text/x-python",
   "name": "python",
   "nbconvert_exporter": "python",
   "pygments_lexer": "ipython3",
   "version": "3.10.12"
  }
 },
 "nbformat": 4,
 "nbformat_minor": 5
}

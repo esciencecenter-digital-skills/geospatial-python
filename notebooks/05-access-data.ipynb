{
 "cells": [
  {
   "cell_type": "markdown",
   "id": "296f8164",
   "metadata": {},
   "source": [
    "-   Where can I find open-access satellite data?\n",
    "-   How do I search for satellite imagery with the STAC API?\n",
    "-   How do I fetch remote raster datasets using Python?\n",
    "\n",
    "-   Search public STAC repositories of satellite imagery using Python.\n",
    "-   Inspect search result’s metadata.\n",
    "-   Download (a subset of) the assets available for a satellite scene.\n",
    "-   Open satellite imagery as raster data and save it to disk.\n",
    "\n",
    "## Introduction\n",
    "\n",
    "A number of satellites take snapshots of the Earth’s surface from space. The images recorded by these remote sensors\n",
    "represent a very precious data source for any activity that involves monitoring changes on Earth. Satellite imagery is\n",
    "typically provided in the form of geospatial raster data, with the measurements in each grid cell (“pixel”) being\n",
    "associated to accurate geographic coordinate information.\n",
    "\n",
    "In this episode we will explore how to access open satellite data using Python. In particular, we will\n",
    "consider [the Sentinel-2 data collection that is hosted on AWS](https://registry.opendata.aws/sentinel-2-l2a-cogs).\n",
    "This dataset consists of multi-band optical images acquired by the two satellites of\n",
    "[the Sentinel-2 mission](https://sentinel.esa.int/web/sentinel/missions/sentinel-2) and it is continuously updated with\n",
    "new images.\n",
    "\n",
    "## Search for satellite imagery\n",
    "\n",
    "### The SpatioTemporal Asset Catalog (STAC) specification\n",
    "\n",
    "Current sensor resolutions and satellite revisit periods are such that terabytes of data products are added daily to the\n",
    "corresponding collections. Such datasets cannot be made accessible to users via full-catalog download. Space agencies\n",
    "and other data providers often offer access to their data catalogs through interactive Graphical User Interfaces (GUIs),\n",
    "see for instance the [Copernicus Open Access Hub portal](https://scihub.copernicus.eu/dhus/#/home) for the Sentinel\n",
    "missions. Accessing data via a GUI is a nice way to explore a catalog and get familiar with its content, but it\n",
    "represents a heavy and error-prone task that should be avoided if carried out systematically to retrieve data.\n",
    "\n",
    "A service that offers programmatic access to the data enables users to reach the desired data in a more reliable,\n",
    "scalable and reproducible manner. An important element in the software interface exposed to the users, which is generally called\n",
    "the Application Programming Interface (API), is the use of standards. Standards, in fact, can significantly facilitate\n",
    "the reusability of tools and scripts across datasets and applications.\n",
    "\n",
    "The SpatioTemporal Asset Catalog (STAC) specification is an emerging standard for describing geospatial data. By\n",
    "organizing metadata in a form that adheres to the STAC specifications, data providers make it possible for users to\n",
    "access data from different missions, instruments and collections using the same set of tools.\n",
    "\n",
    "<figure>\n",
    "<img src=\"attachment:fig/E05/STAC-browser.jpg\" alt=\"STAC browser screenshots\" />\n",
    "<figcaption>Views of the STAC browser</figcaption>\n",
    "</figure>\n",
    "\n",
    "## More Resources on STAC\n",
    "\n",
    "-   [STAC specification](https://github.com/radiantearth/stac-spec#readme)\n",
    "-   [Tools based on STAC](https://stacindex.org/ecosystem)\n",
    "-   [STAC catalogs](https://stacindex.org/catalogs)\n",
    "\n",
    "## Search a STAC catalog\n",
    "\n",
    "The [STAC browser](https://radiantearth.github.io/stac-browser/#/) is a good starting point to discover available\n",
    "datasets, as it provides an up-to-date list of existing STAC catalogs. From the list, let’s click on the\n",
    "“Earth Search” catalog, i.e. the access point to search the archive of Sentinel-2 images hosted on AWS.\n",
    "\n",
    "## Exercise: Discover a STAC catalog\n",
    "\n",
    "Let’s take a moment to explore the Earth Search STAC catalog, which is the catalog indexing the Sentinel-2 collection\n",
    "that is hosted on AWS. We can interactively browse this catalog using the STAC browser at [this link](https://radiantearth.github.io/stac-browser/#/external/earth-search.aws.element84.com/v1).\n",
    "\n",
    "1.  Open the link in your web browser. Which (sub-)catalogs are available?\n",
    "2.  Open the Sentinel-2 Level 2A collection, and select one item from the list. Each item corresponds to a satellite\n",
    "    “scene”, i.e. a portion of the footage recorded by the satellite at a given time. Have a look at the metadata fields\n",
    "    and the list of assets. What kind of data do the assets represent?\n",
    "\n",
    "<figure>\n",
    "<img src=\"attachment:fig/E05/STAC-browser-exercise.jpg\" alt=\"earth-search stac catalog views\" />\n",
    "<figcaption>Views of the Earth Search STAC endpoint</figcaption>\n",
    "</figure>\n",
    "\n",
    "1.  7 subcatalogs are available, including a catalog for Landsat Collection 2, Level-2 and Sentinel-2 Level 2A (see left screenshot in the figure above).\n",
    "2.  When you select the Sentinel-2 Level 2A collection, and randomly choose one of the items from the list, you\n",
    "    should find yourself on a page similar to the right screenshot in the figure above. On the left side you will find\n",
    "    a list of the available assets: overview images (thumbnail and true color images), metadata files and the “real”\n",
    "    satellite images, one for each band captured by the Multispectral Instrument on board Sentinel-2.\n",
    "\n",
    "When opening a catalog with the STAC browser, you can access the API URL by clicking on the “Source” button on the top\n",
    "right of the page. By using this URL, we have access to the catalog content and, if supported by the catalog, to the\n",
    "functionality of searching its items. For the Earth Search STAC catalog the API URL is:"
   ]
  },
  {
   "cell_type": "code",
   "execution_count": null,
   "id": "f82c3a1e",
   "metadata": {},
   "outputs": [],
   "source": [
    "api_url = \"https://earth-search.aws.element84.com/v1\""
   ]
  },
  {
   "cell_type": "markdown",
   "id": "59226a26",
   "metadata": {},
   "source": [
    "You can query a STAC API endpoint from Python using the `pystac_client` library:"
   ]
  },
  {
   "cell_type": "code",
   "execution_count": null,
   "id": "6230de20",
   "metadata": {},
   "outputs": [],
   "source": [
    "from pystac_client import Client\n",
    "\n",
    "client = Client.open(api_url)"
   ]
  },
  {
   "cell_type": "markdown",
   "id": "16ed5983",
   "metadata": {},
   "source": [
    "In the following, we ask for scenes belonging to the `sentinel-2-l2a` collection. This dataset includes Sentinel-2\n",
    "data products pre-processed at level 2A (bottom-of-atmosphere reflectance) and saved in Cloud Optimized GeoTIFF (COG)\n",
    "format:"
   ]
  },
  {
   "cell_type": "code",
   "execution_count": null,
   "id": "8b2ac22a",
   "metadata": {},
   "outputs": [],
   "source": [
    "collection = \"sentinel-2-l2a\"  # Sentinel-2, Level 2A, Cloud Optimized GeoTiffs (COGs)"
   ]
  },
  {
   "cell_type": "markdown",
   "id": "3435c380",
   "metadata": {},
   "source": [
    "## Cloud Optimized GeoTIFFs\n",
    "\n",
    "Cloud Optimized GeoTIFFs (COGs) are regular GeoTIFF files with some additional features that make them ideal to be\n",
    "employed in the context of cloud computing and other web-based services. This format builds on the widely-employed\n",
    "GeoTIFF format, already introduced in [Episode 1: Introduction to Raster Data](01-intro-raster-data.md).\n",
    "In essence, COGs are regular GeoTIFF files with a special internal structure. One of the features of COGs is that data\n",
    "is organized in “blocks” that can be accessed remotely via independent HTTP requests. Data users can thus access the\n",
    "only blocks of a GeoTIFF that are relevant for their analysis, without having to download the full file. In addition,\n",
    "COGs typically include multiple lower-resolution versions of the original image, called “overviews”, which can also be\n",
    "accessed independently. By providing this “pyramidal” structure, users that are not interested in the details provided\n",
    "by a high-resolution raster can directly access the lower-resolution versions of the same image, significantly saving\n",
    "on the downloading time. More information on the COG format can be found [here](https://www.cogeo.org).\n",
    "\n",
    "We also ask for scenes intersecting a geometry defined using the `shapely` library (in this case, a point):"
   ]
  },
  {
   "cell_type": "code",
   "execution_count": null,
   "id": "58354d57",
   "metadata": {},
   "outputs": [],
   "source": [
    "from shapely.geometry import Point\n",
    "point = Point(4.89, 52.37)  # AMS coordinates"
   ]
  },
  {
   "cell_type": "markdown",
   "id": "f854da22",
   "metadata": {},
   "source": [
    "Note: at this stage, we are only dealing with metadata, so no image is going to be downloaded yet. But even metadata can\n",
    "be quite bulky if a large number of scenes match our search! For this reason, we limit the search result to 10 items:"
   ]
  },
  {
   "cell_type": "code",
   "execution_count": null,
   "id": "40168b5d",
   "metadata": {},
   "outputs": [],
   "source": [
    "search = client.search(\n",
    "    collections=[collection],\n",
    "    intersects=point,\n",
    "    max_items=10,\n",
    ")"
   ]
  },
  {
   "cell_type": "markdown",
   "id": "d6fc7464",
   "metadata": {},
   "source": [
    "We submit the query and find out how many scenes match our search criteria (please note that this output can be different as more data is added to the catalog):"
   ]
  },
  {
   "cell_type": "code",
   "execution_count": null,
   "id": "4e9af3ee",
   "metadata": {},
   "outputs": [],
   "source": [
    "print(search.matched())"
   ]
  },
  {
   "cell_type": "markdown",
   "id": "fe05999c",
   "metadata": {},
   "source": [
    "``` output\n",
    "840\n",
    "```\n",
    "\n",
    "Finally, we retrieve the metadata of the search results:"
   ]
  },
  {
   "cell_type": "code",
   "execution_count": null,
   "id": "d1c02429",
   "metadata": {},
   "outputs": [],
   "source": [
    "items = search.item_collection()"
   ]
  },
  {
   "cell_type": "markdown",
   "id": "d44b8ccd",
   "metadata": {},
   "source": [
    "The variable `items` is an `ItemCollection` object. We can check its size by:"
   ]
  },
  {
   "cell_type": "code",
   "execution_count": null,
   "id": "7fc101f9",
   "metadata": {},
   "outputs": [],
   "source": [
    "print(len(items))"
   ]
  },
  {
   "cell_type": "markdown",
   "id": "2bb5d33c",
   "metadata": {},
   "source": [
    "``` output\n",
    "10\n",
    "```\n",
    "\n",
    "which is consistent with the maximum number of items that we have set in the search criteria. We can iterate over\n",
    "the returned items and print these to show their IDs:"
   ]
  },
  {
   "cell_type": "code",
   "execution_count": null,
   "id": "12cdf91d",
   "metadata": {},
   "outputs": [],
   "source": [
    "for item in items:\n",
    "    print(item)"
   ]
  },
  {
   "cell_type": "markdown",
   "id": "49eb34f6",
   "metadata": {},
   "source": [
    "``` output\n",
    "<Item id=S2A_31UFU_20230701_0_L2A>\n",
    "<Item id=S2B_31UFU_20230629_0_L2A>\n",
    "<Item id=S2B_31UFU_20230626_0_L2A>\n",
    "<Item id=S2A_31UFU_20230624_0_L2A>\n",
    "<Item id=S2A_31UFU_20230621_0_L2A>\n",
    "<Item id=S2B_31UFU_20230616_0_L2A>\n",
    "<Item id=S2A_31UFU_20230614_0_L2A>\n",
    "<Item id=S2A_31UFU_20230611_0_L2A>\n",
    "<Item id=S2B_31UFU_20230609_0_L2A>\n",
    "<Item id=S2B_31UFU_20230606_0_L2A>\n",
    "```\n",
    "\n",
    "Each of the items contains information about the scene geometry, its acquisition time, and other metadata that can be\n",
    "accessed as a dictionary from the `properties` attribute.\n",
    "\n",
    "Let’s inspect the metadata associated with the first item of the search results:"
   ]
  },
  {
   "cell_type": "code",
   "execution_count": null,
   "id": "05b5c2ba",
   "metadata": {},
   "outputs": [],
   "source": [
    "item = items[0]\n",
    "print(item.datetime)\n",
    "print(item.geometry)\n",
    "print(item.properties)"
   ]
  },
  {
   "cell_type": "markdown",
   "id": "79ad8054",
   "metadata": {},
   "source": [
    "``` output\n",
    "2023-07-01 10:46:30.262000+00:00\n",
    "{'type': 'Polygon', 'coordinates': [[[5.233744523520149, 53.228684673408296], [6.141754296879459, 53.20819279121764], [6.071664488869862, 52.22257539160585], [4.80943323800081, 52.2486879358387], [5.233744523520149, 53.228684673408296]]]}\n",
    "{'created': '2023-07-02T01:49:17.191Z', 'platform': 'sentinel-2a', 'constellation': 'sentinel-2', 'instruments': ['msi'], 'eo:cloud_cover': 99.952936, 'proj:epsg': 32631, 'mgrs:utm_zone': 31, 'mgrs:latitude_band': 'U', 'mgrs:grid_square': 'FU', 'grid:code': 'MGRS-31UFU', 'view:sun_azimuth': 154.716674921261, 'view:sun_elevation': 58.4960054056685, 's2:degraded_msi_data_percentage': 0.0346, 's2:nodata_pixel_percentage': 33.00232, 's2:saturated_defective_pixel_percentage': 0, 's2:dark_features_percentage': 0, 's2:cloud_shadow_percentage': 0.030847, 's2:vegetation_percentage': 0, 's2:not_vegetated_percentage': 0.004947, 's2:water_percentage': 0.011271, 's2:unclassified_percentage': 0, 's2:medium_proba_clouds_percentage': 5.838514, 's2:high_proba_clouds_percentage': 94.035202, 's2:thin_cirrus_percentage': 0.07922, 's2:snow_ice_percentage': 0, 's2:product_type': 'S2MSI2A', 's2:processing_baseline': '05.09', 's2:product_uri': 'S2A_MSIL2A_20230701T103631_N0509_R008_T31UFU_20230701T200058.SAFE', 's2:generation_time': '2023-07-01T20:00:58.000000Z', 's2:datatake_id': 'GS2A_20230701T103631_041904_N05.09', 's2:datatake_type': 'INS-NOBS', 's2:datastrip_id': 'S2A_OPER_MSI_L2A_DS_2APS_20230701T200058_S20230701T104159_N05.09', 's2:granule_id': 'S2A_OPER_MSI_L2A_TL_2APS_20230701T200058_A041904_T31UFU_N05.09', 's2:reflectance_conversion_factor': 0.967641353116838, 'datetime': '2023-07-01T10:46:30.262000Z', 's2:sequence': '0', 'earthsearch:s3_path': 's3://sentinel-cogs/sentinel-s2-l2a-cogs/31/U/FU/2023/7/S2A_31UFU_20230701_0_L2A', 'earthsearch:payload_id': 'roda-sentinel2/workflow-sentinel2-to-stac/7b1a81ed3fb8d763a0cecf8d9edd4d4a', 'earthsearch:boa_offset_applied': True, 'processing:software': {'sentinel2-to-stac': '0.1.0'}, 'updated': '2023-07-02T01:49:17.191Z'}\n",
    "```\n",
    "\n",
    "## Exercise: Search satellite scenes using metadata filters\n",
    "\n",
    "Search for all the available Sentinel-2 scenes in the `sentinel-2-l2a` collection that satisfy the following\n",
    "criteria:\n",
    "- intersect a provided bounding box (use ±0.01 deg in lat/lon from the previously defined point);\n",
    "- have been recorded between 20 March 2020 and 30 March 2020;\n",
    "- have a cloud coverage smaller than 10% (hint: use the `query` input argument of `client.search`).\n",
    "\n",
    "How many scenes are available? Save the search results in GeoJSON format."
   ]
  },
  {
   "cell_type": "code",
   "execution_count": null,
   "id": "8a526e39",
   "metadata": {},
   "outputs": [],
   "source": [
    "bbox = point.buffer(0.01).bounds"
   ]
  },
  {
   "cell_type": "code",
   "execution_count": null,
   "id": "d9da4914",
   "metadata": {},
   "outputs": [],
   "source": [
    "search = client.search(\n",
    "    collections=[collection],\n",
    "    bbox=bbox,\n",
    "    datetime=\"2020-03-20/2020-03-30\",\n",
    "    query=[\"eo:cloud_cover<15\"]\n",
    ")\n",
    "print(search.matched())"
   ]
  },
  {
   "cell_type": "markdown",
   "id": "70d1c04e",
   "metadata": {},
   "source": [
    "``` output\n",
    "4\n",
    "```"
   ]
  },
  {
   "cell_type": "code",
   "execution_count": null,
   "id": "906dbbc8",
   "metadata": {},
   "outputs": [],
   "source": [
    "items = search.item_collection()\n",
    "items.save_object(\"search.json\")"
   ]
  },
  {
   "cell_type": "markdown",
   "id": "d59c2561",
   "metadata": {},
   "source": [
    "## Access the assets\n",
    "\n",
    "So far we have only discussed metadata - but how can one get to the actual images of a satellite scene (the “assets” in\n",
    "the STAC nomenclature)? These can be reached via links that are made available through the item’s attribute `assets`."
   ]
  },
  {
   "cell_type": "code",
   "execution_count": null,
   "id": "a5738560",
   "metadata": {},
   "outputs": [],
   "source": [
    "assets = items[0].assets  # first item's asset dictionary\n",
    "print(assets.keys())"
   ]
  },
  {
   "cell_type": "markdown",
   "id": "4e896449",
   "metadata": {},
   "source": [
    "``` output\n",
    "dict_keys(['aot', 'blue', 'coastal', 'granule_metadata', 'green', 'nir', 'nir08', 'nir09', 'red', 'rededge1', 'rededge2', 'rededge3', 'scl', 'swir16', 'swir22', 'thumbnail', 'tileinfo_metadata', 'visual', 'wvp', 'aot-jp2', 'blue-jp2', 'coastal-jp2', 'green-jp2', 'nir-jp2', 'nir08-jp2', 'nir09-jp2', 'red-jp2', 'rededge1-jp2', 'rededge2-jp2', 'rededge3-jp2', 'scl-jp2', 'swir16-jp2', 'swir22-jp2', 'visual-jp2', 'wvp-jp2'])\n",
    "```\n",
    "\n",
    "We can print a minimal description of the available assets:"
   ]
  },
  {
   "cell_type": "code",
   "execution_count": null,
   "id": "ee454a3b",
   "metadata": {},
   "outputs": [],
   "source": [
    "for key, asset in assets.items():\n",
    "    print(f\"{key}: {asset.title}\")"
   ]
  },
  {
   "cell_type": "markdown",
   "id": "03fdb697",
   "metadata": {},
   "source": [
    "``` output\n",
    "aot: Aerosol optical thickness (AOT)\n",
    "blue: Blue (band 2) - 10m\n",
    "coastal: Coastal aerosol (band 1) - 60m\n",
    "granule_metadata: None\n",
    "green: Green (band 3) - 10m\n",
    "nir: NIR 1 (band 8) - 10m\n",
    "nir08: NIR 2 (band 8A) - 20m\n",
    "nir09: NIR 3 (band 9) - 60m\n",
    "red: Red (band 4) - 10m\n",
    "rededge1: Red edge 1 (band 5) - 20m\n",
    "rededge2: Red edge 2 (band 6) - 20m\n",
    "rededge3: Red edge 3 (band 7) - 20m\n",
    "scl: Scene classification map (SCL)\n",
    "swir16: SWIR 1 (band 11) - 20m\n",
    "swir22: SWIR 2 (band 12) - 20m\n",
    "thumbnail: Thumbnail image\n",
    "tileinfo_metadata: None\n",
    "visual: True color image\n",
    "wvp: Water vapour (WVP)\n",
    "aot-jp2: Aerosol optical thickness (AOT)\n",
    "blue-jp2: Blue (band 2) - 10m\n",
    "coastal-jp2: Coastal aerosol (band 1) - 60m\n",
    "green-jp2: Green (band 3) - 10m\n",
    "nir-jp2: NIR 1 (band 8) - 10m\n",
    "nir08-jp2: NIR 2 (band 8A) - 20m\n",
    "nir09-jp2: NIR 3 (band 9) - 60m\n",
    "red-jp2: Red (band 4) - 10m\n",
    "rededge1-jp2: Red edge 1 (band 5) - 20m\n",
    "rededge2-jp2: Red edge 2 (band 6) - 20m\n",
    "rededge3-jp2: Red edge 3 (band 7) - 20m\n",
    "scl-jp2: Scene classification map (SCL)\n",
    "swir16-jp2: SWIR 1 (band 11) - 20m\n",
    "swir22-jp2: SWIR 2 (band 12) - 20m\n",
    "visual-jp2: True color image\n",
    "wvp-jp2: Water vapour (WVP)\n",
    "```\n",
    "\n",
    "Among the others, assets include multiple raster data files (one per optical band, as acquired by the multi-spectral\n",
    "instrument), a thumbnail, a true-color image (“visual”), instrument metadata and scene-classification information\n",
    "(“SCL”). Let’s get the URL links to the actual asset:"
   ]
  },
  {
   "cell_type": "code",
   "execution_count": null,
   "id": "7d162772",
   "metadata": {},
   "outputs": [],
   "source": [
    "print(assets[\"thumbnail\"].href)"
   ]
  },
  {
   "cell_type": "markdown",
   "id": "e648ae59",
   "metadata": {},
   "source": [
    "``` output\n",
    "https://sentinel-cogs.s3.us-west-2.amazonaws.com/sentinel-s2-l2a-cogs/31/U/FU/2020/3/S2A_31UFU_20200328_0_L2A/thumbnail.jpg\n",
    "```\n",
    "\n",
    "This can be used to download the corresponding file:\n",
    "\n",
    "<figure>\n",
    "<img src=\"attachment:fig/E05/STAC-s2-preview.jpg\" alt=\"thumbnail of the sentinel-2 scene\" />\n",
    "<figcaption>Overview of the true-color image (“thumbnail”)</figcaption>\n",
    "</figure>\n",
    "\n",
    "Remote raster data can be directly opened via the `rioxarray` library. We will\n",
    "learn more about this library in the next episodes."
   ]
  },
  {
   "cell_type": "code",
   "execution_count": null,
   "id": "428ccd86",
   "metadata": {},
   "outputs": [],
   "source": [
    "import rioxarray\n",
    "nir_href = assets[\"nir\"].href\n",
    "nir = rioxarray.open_rasterio(nir_href)\n",
    "print(nir)"
   ]
  },
  {
   "cell_type": "markdown",
   "id": "c938d99c",
   "metadata": {},
   "source": [
    "``` output\n",
    "<xarray.DataArray (band: 1, y: 10980, x: 10980)>\n",
    "[120560400 values with dtype=uint16]\n",
    "Coordinates:\n",
    "  * band         (band) int64 1\n",
    "  * x            (x) float64 6e+05 6e+05 6e+05 ... 7.098e+05 7.098e+05 7.098e+05\n",
    "  * y            (y) float64 5.9e+06 5.9e+06 5.9e+06 ... 5.79e+06 5.79e+06\n",
    "    spatial_ref  int64 0\n",
    "Attributes:\n",
    "    AREA_OR_POINT:       Area\n",
    "    OVR_RESAMPLING_ALG:  AVERAGE\n",
    "    _FillValue:          0\n",
    "    scale_factor:        1.0\n",
    "    add_offset:          0.0\n",
    "```\n",
    "\n",
    "We can then save the data to disk:"
   ]
  },
  {
   "cell_type": "code",
   "execution_count": null,
   "id": "33bdab80",
   "metadata": {},
   "outputs": [],
   "source": [
    "# save whole image to disk\n",
    "nir.rio.to_raster(\"nir.tif\")"
   ]
  },
  {
   "cell_type": "markdown",
   "id": "ba7c2c0b",
   "metadata": {},
   "source": [
    "Since that might take a while, given there are over 10000 x 10000 = a hundred million pixels in the 10 meter NIR band, you can take a smaller subset before downloading it. Becuase the raster is a COG, we can download just what we need!\n",
    "\n",
    "Here, we specify that we want to download the first (and only) band in the tif file, and a slice of the width and height dimensions."
   ]
  },
  {
   "cell_type": "code",
   "execution_count": null,
   "id": "fecf0756",
   "metadata": {},
   "outputs": [],
   "source": [
    "# save portion of an image to disk\n",
    "nir[0,1500:2200,1500:2200].rio.to_raster(\"nir_subset.tif\")"
   ]
  },
  {
   "cell_type": "markdown",
   "id": "eaa890ed",
   "metadata": {},
   "source": [
    "The difference is 155 Megabytes for the large image vs about 1 Megabyte for the subset.\n",
    "\n",
    "## Exercise: Downloading Landsat 8 Assets\n",
    "\n",
    "In this exercise we put in practice all the skills we have learned in this episode to retrieve images from a different\n",
    "mission: [Landsat 8](https://www.usgs.gov/landsat-missions/landsat-8). In particular, we browse images from the\n",
    "[Harmonized Landsat Sentinel-2 (HLS) project](https://lpdaac.usgs.gov/products/hlsl30v002/), which provides images\n",
    "from NASA’s Landsat 8 and ESA’s Sentinel-2 that have been made consistent with each other. The HLS catalog is indexed\n",
    "in the NASA Common Metadata Repository (CMR) and it can be accessed from the STAC API endpoint at the following URL:\n",
    "`https://cmr.earthdata.nasa.gov/stac/LPCLOUD`.\n",
    "\n",
    "-   Using `pystac_client`, search for all assets of the Landsat 8 collection (`HLSL30.v2.0`) from February to March\n",
    "    2021, intersecting the point with longitude/latitute coordinates (-73.97, 40.78) deg.\n",
    "-   Visualize an item’s thumbnail (asset key `browse`)."
   ]
  },
  {
   "cell_type": "code",
   "execution_count": null,
   "id": "c5a41137",
   "metadata": {},
   "outputs": [],
   "source": [
    "# connect to the STAC endpoint\n",
    "cmr_api_url = \"https://cmr.earthdata.nasa.gov/stac/LPCLOUD\"\n",
    "client = Client.open(cmr_api_url)\n",
    "\n",
    "# setup search\n",
    "search = client.search(\n",
    "    collections=[\"HLSL30.v2.0\"],\n",
    "    intersects=Point(-73.97, 40.78),\n",
    "    datetime=\"2021-02-01/2021-03-30\",\n",
    ") # nasa cmr cloud cover filtering is currently broken: https://github.com/nasa/cmr-stac/issues/239\n",
    "\n",
    "# retrieve search results\n",
    "items = search.item_collection()\n",
    "print(len(items))"
   ]
  },
  {
   "cell_type": "markdown",
   "id": "e19c98fd",
   "metadata": {},
   "source": [
    "``` output\n",
    "5\n",
    "```"
   ]
  },
  {
   "cell_type": "code",
   "execution_count": null,
   "id": "b89e7170",
   "metadata": {},
   "outputs": [],
   "source": [
    "items_sorted = sorted(items, key=lambda x: x.properties[\"eo:cloud_cover\"]) # sorting and then selecting by cloud cover\n",
    "item = items_sorted[0]\n",
    "print(item)"
   ]
  },
  {
   "cell_type": "markdown",
   "id": "dbb8cb91",
   "metadata": {},
   "source": [
    "``` output\n",
    "<Item id=HLS.L30.T18TWL.2021039T153324.v2.0>\n",
    "```"
   ]
  },
  {
   "cell_type": "code",
   "execution_count": null,
   "id": "309d9cd3",
   "metadata": {},
   "outputs": [],
   "source": [
    "print(item.assets[\"browse\"].href)"
   ]
  },
  {
   "cell_type": "markdown",
   "id": "508cae9a",
   "metadata": {},
   "source": [
    "``` output\n",
    "'https://data.lpdaac.earthdatacloud.nasa.gov/lp-prod-public/HLSL30.020/HLS.L30.T18TWL.2021039T153324.v2.0/HLS.L30.T18TWL.039T153324.v2.0.jpg'\n",
    "```\n",
    "\n",
    "<figure>\n",
    "<img src=\"attachment:fig/E05/STAC-l8-preview.jpg\" alt=\"thumbnail of the landsat-8 scene\" />\n",
    "<figcaption>Thumbnail of the Landsat-8 scene</figcaption>\n",
    "</figure>\n",
    "\n",
    "## Public catalogs, protected data\n",
    "\n",
    "Publicly accessible catalogs and STAC endpoints do not necessarily imply publicly accessible data. Data providers, in\n",
    "fact, may limit data access to specific infrastructures and/or require authentication. For instance, the NASA CMR STAC\n",
    "endpoint considered in the last exercise offers publicly accessible metadata for the HLS collection, but most of the\n",
    "linked assets are available only for registered users (the thumbnail is publicly accessible).\n",
    "\n",
    "The authentication procedure for dataset with restricted access might differ depending on the data provider. For the\n",
    "NASA CMR, follow these steps in order to access data using Python:\n",
    "\n",
    "-   Create a NASA Earthdata login account [here](https://urs.earthdata.nasa.gov);\n",
    "-   Set up a netrc file with your credentials, e.g. by using [this script](https://git.earthdata.nasa.gov/projects/LPDUR/repos/daac_data_download_python/browse/EarthdataLoginSetup.py);\n",
    "-   Define the following environment variables:"
   ]
  },
  {
   "cell_type": "code",
   "execution_count": null,
   "id": "86a9e07c",
   "metadata": {},
   "outputs": [],
   "source": [
    "import os\n",
    "os.environ[\"GDAL_HTTP_COOKIEFILE\"] = \"./cookies.txt\"\n",
    "os.environ[\"GDAL_HTTP_COOKIEJAR\"] = \"./cookies.txt\""
   ]
  },
  {
   "cell_type": "markdown",
   "id": "b14d8e8f",
   "metadata": {},
   "source": [
    "-   Accessing satellite images via the providers’ API enables a more reliable and scalable data retrieval.\n",
    "-   STAC catalogs can be browsed and searched using the same tools and scripts.\n",
    "-   `rioxarray` allows you to open and download remote raster files."
   ]
  }
 ],
 "metadata": {
  "jupytext": {
   "main_language": "python"
  }
 },
 "nbformat": 4,
 "nbformat_minor": 5
}

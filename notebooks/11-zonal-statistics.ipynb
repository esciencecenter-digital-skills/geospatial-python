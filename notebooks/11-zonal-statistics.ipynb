{
 "cells": [
  {
   "cell_type": "markdown",
   "id": "30435181",
   "metadata": {},
   "source": [
    "# Zonal statistics"
   ]
  },
  {
   "cell_type": "code",
   "execution_count": null,
   "id": "a739fdaa",
   "metadata": {},
   "outputs": [],
   "source": [
    "# Load raster\n",
    "import rioxarray\n",
    "burned = rioxarray.open_rasterio('burned.tif')\n",
    "burned"
   ]
  },
  {
   "cell_type": "code",
   "execution_count": null,
   "id": "2026781c",
   "metadata": {},
   "outputs": [],
   "source": [
    "import geopandas as gpd\n",
    "assets = gpd.read_file('assets.gpkg')\n",
    "assets"
   ]
  },
  {
   "cell_type": "markdown",
   "id": "793dead9",
   "metadata": {},
   "source": [
    "## Align the CRS of the two datasets"
   ]
  },
  {
   "cell_type": "code",
   "execution_count": null,
   "id": "fbd0e97e",
   "metadata": {},
   "outputs": [],
   "source": [
    "burned.rio.crs"
   ]
  },
  {
   "cell_type": "code",
   "execution_count": null,
   "id": "3f0ae56f",
   "metadata": {},
   "outputs": [],
   "source": [
    "assets.crs"
   ]
  },
  {
   "cell_type": "code",
   "execution_count": null,
   "id": "1dc381e9",
   "metadata": {},
   "outputs": [],
   "source": [
    "assets = assets.to_crs(burned.rio.crs)"
   ]
  },
  {
   "cell_type": "markdown",
   "id": "b58fde0d",
   "metadata": {},
   "source": [
    "# Rasterizing the vector data"
   ]
  },
  {
   "cell_type": "code",
   "execution_count": null,
   "id": "b137ce17",
   "metadata": {},
   "outputs": [],
   "source": [
    "geom = assets[['geometry', 'code']].values.tolist()\n",
    "geom"
   ]
  },
  {
   "cell_type": "code",
   "execution_count": null,
   "id": "caedcf2b",
   "metadata": {},
   "outputs": [],
   "source": [
    "burned.shape"
   ]
  },
  {
   "cell_type": "code",
   "execution_count": null,
   "id": "136381ad",
   "metadata": {},
   "outputs": [],
   "source": [
    "# A squeeze is needed to make the raster 2D\n",
    "# Since rasterize function only accept 2D shape\n",
    "burned.squeeze().shape"
   ]
  },
  {
   "cell_type": "code",
   "execution_count": null,
   "id": "61fd777c",
   "metadata": {},
   "outputs": [],
   "source": [
    "burned_squeeze = burned.squeeze()"
   ]
  },
  {
   "cell_type": "code",
   "execution_count": null,
   "id": "e6c3eaf0",
   "metadata": {},
   "outputs": [],
   "source": [
    "from rasterio import features\n",
    "assets_rasterized = features.rasterize(geom, out_shape=burned_squeeze.shape, transform=burned.rio.transform())"
   ]
  },
  {
   "cell_type": "code",
   "execution_count": null,
   "id": "56cf60b6",
   "metadata": {},
   "outputs": [],
   "source": [
    "assets_rasterized"
   ]
  },
  {
   "cell_type": "markdown",
   "id": "2c5861d4",
   "metadata": {},
   "source": [
    "## Create an Xarray.DataArray from the rasterized results"
   ]
  },
  {
   "cell_type": "code",
   "execution_count": null,
   "id": "a58e59ad",
   "metadata": {},
   "outputs": [],
   "source": [
    "import numpy as np\n",
    "print(assets_rasterized.shape)\n",
    "print(np.unique(assets_rasterized))"
   ]
  },
  {
   "cell_type": "code",
   "execution_count": null,
   "id": "fa82044d",
   "metadata": {},
   "outputs": [],
   "source": [
    "from matplotlib import pyplot as plt\n",
    "plt.imshow(assets_rasterized)\n",
    "plt.colorbar()"
   ]
  },
  {
   "cell_type": "code",
   "execution_count": null,
   "id": "f134df4d",
   "metadata": {},
   "outputs": [],
   "source": [
    "assets_rasterized_xarr = burned_squeeze.copy()\n",
    "assets_rasterized_xarr.data = assets_rasterized\n",
    "\n",
    "# visualize zones\n",
    "assets_rasterized_xarr.plot()"
   ]
  },
  {
   "cell_type": "markdown",
   "id": "6de4990d",
   "metadata": {},
   "source": [
    "## Perform Zonal Statistcs"
   ]
  },
  {
   "cell_type": "code",
   "execution_count": null,
   "id": "abbcb120",
   "metadata": {},
   "outputs": [],
   "source": [
    "from xrspatial import zonal_stats\n",
    "stats = zonal_stats(assets_rasterized_xarr, burned_squeeze)"
   ]
  },
  {
   "cell_type": "code",
   "execution_count": null,
   "id": "8951b7c1",
   "metadata": {},
   "outputs": [],
   "source": [
    "stats"
   ]
  },
  {
   "cell_type": "markdown",
   "id": "c76c2cea",
   "metadata": {},
   "source": [
    "Exercise: Zonal stats over slope zones\n",
    "\n",
    "In the previouse section, we calculated the slope over Rhodes Island. Can you perform zonal statistics over slope and non slope region? We define non slope area as `slope<0.3`.\n",
    "\n",
    "Hint:\n",
    "1. Load slope data from 'slope_dask.tif'.\n",
    "2. Convert slope data to zones using [`xr.where`](https://docs.xarray.dev/en/stable/generated/xarray.where.html) function.\n",
    "3. Note that the slope data and burn index data are in different resolution."
   ]
  },
  {
   "cell_type": "code",
   "execution_count": null,
   "id": "0c9e89d8",
   "metadata": {},
   "outputs": [],
   "source": [
    "# Load data and remove redundant dimension\n",
    "slope = rioxarray.open_rasterio('slope_dask.tif').squeeze()\n",
    "\n",
    "# Covert slope data to Zone data\n",
    "import xarray as xr\n",
    "slope2 = xr.where(slope.isnull(), 0, slope) # Set all NaN values to 0\n",
    "slope_zones = xr.where(slope2 < 0.3, 0, 1)\n",
    "slope_zones.rio.set_crs(slope.rio.crs)\n",
    "\n",
    "# Reproject burned to slope\n",
    "burned = rioxarray.open_rasterio('burned.tif').squeeze()\n",
    "burned_match = burned.rio.reproject_match(slope_zones)\n",
    "\n",
    "# Compute Zonal stats\n",
    "stats = zonal_stats(slope_zones, burned_match)"
   ]
  }
 ],
 "metadata": {
  "jupytext": {
   "main_language": "python"
  },
  "kernelspec": {
   "display_name": "geospatial",
   "language": "python",
   "name": "python3"
  },
  "language_info": {
   "codemirror_mode": {
    "name": "ipython",
    "version": 3
   },
   "file_extension": ".py",
   "mimetype": "text/x-python",
   "name": "python",
   "nbconvert_exporter": "python",
   "pygments_lexer": "ipython3",
   "version": "3.10.12"
  }
 },
 "nbformat": 4,
 "nbformat_minor": 5
}

{
 "cells": [
  {
   "cell_type": "markdown",
   "id": "30435181",
   "metadata": {},
   "source": [
    "# Zonal statistics"
   ]
  },
  {
   "cell_type": "code",
   "execution_count": null,
   "id": "a739fdaa",
   "metadata": {},
   "outputs": [],
   "source": [
    "# Load raster\n",
    "import rioxarray\n",
    "burned = rioxarray.open_rasterio('burned.tif')\n",
    "burned"
   ]
  },
  {
   "cell_type": "code",
   "execution_count": null,
   "id": "2026781c",
   "metadata": {},
   "outputs": [],
   "source": [
    "# Load assets vector\n",
    "import geopandas as gpd\n",
    "assets = gpd.read_file('assets.gpkg')\n",
    "assets"
   ]
  },
  {
   "cell_type": "markdown",
   "id": "793dead9",
   "metadata": {},
   "source": [
    "## Align the CRS of the two datasets"
   ]
  },
  {
   "cell_type": "code",
   "execution_count": null,
   "id": "fbd0e97e",
   "metadata": {},
   "outputs": [],
   "source": [
    "burned.rio.crs"
   ]
  },
  {
   "cell_type": "code",
   "execution_count": null,
   "id": "3f0ae56f",
   "metadata": {},
   "outputs": [],
   "source": [
    "assets.crs"
   ]
  },
  {
   "cell_type": "code",
   "execution_count": null,
   "id": "1dc381e9",
   "metadata": {},
   "outputs": [],
   "source": [
    "assets = assets.to_crs(burned.rio.crs)"
   ]
  },
  {
   "cell_type": "markdown",
   "id": "b58fde0d",
   "metadata": {},
   "source": [
    "# Rasterizing the vector data"
   ]
  },
  {
   "cell_type": "code",
   "execution_count": null,
   "id": "b137ce17",
   "metadata": {},
   "outputs": [],
   "source": [
    "geom = assets[['geometry', 'code']].values.tolist()\n",
    "geom"
   ]
  },
  {
   "cell_type": "code",
   "execution_count": null,
   "id": "caedcf2b",
   "metadata": {},
   "outputs": [],
   "source": [
    "# The image has 1 band dimension\n",
    "burned.shape"
   ]
  },
  {
   "cell_type": "code",
   "execution_count": null,
   "id": "136381ad",
   "metadata": {},
   "outputs": [],
   "source": [
    "# A squeeze is needed to make the raster 2D\n",
    "# Since rasterize function only accept 2D shape\n",
    "burned.squeeze().shape"
   ]
  },
  {
   "cell_type": "code",
   "execution_count": null,
   "id": "61fd777c",
   "metadata": {},
   "outputs": [],
   "source": [
    "burned_squeeze = burned.squeeze()"
   ]
  },
  {
   "cell_type": "code",
   "execution_count": null,
   "id": "e6c3eaf0",
   "metadata": {},
   "outputs": [],
   "source": [
    "# Rasterize the vector data.\n",
    "# transform represents the projection from pixel space to the projected coordinate space. \n",
    "# By default, the pixels that are not contained within a polygon in our shapefile will be filled with 0.\n",
    "from rasterio import features\n",
    "assets_rasterized = features.rasterize(geom, out_shape=burned_squeeze.shape, transform=burned.rio.transform())"
   ]
  },
  {
   "cell_type": "code",
   "execution_count": null,
   "id": "56cf60b6",
   "metadata": {},
   "outputs": [],
   "source": [
    "assets_rasterized"
   ]
  },
  {
   "cell_type": "markdown",
   "id": "2c5861d4",
   "metadata": {},
   "source": [
    "## Create an Xarray.DataArray from the rasterized results"
   ]
  },
  {
   "cell_type": "code",
   "execution_count": null,
   "id": "a58e59ad",
   "metadata": {},
   "outputs": [],
   "source": [
    "import numpy as np\n",
    "print(assets_rasterized.shape)\n",
    "print(np.unique(assets_rasterized))"
   ]
  },
  {
   "cell_type": "code",
   "execution_count": null,
   "id": "fa82044d",
   "metadata": {},
   "outputs": [],
   "source": [
    "from matplotlib import pyplot as plt\n",
    "plt.imshow(assets_rasterized)\n",
    "plt.colorbar()"
   ]
  },
  {
   "cell_type": "code",
   "execution_count": null,
   "id": "f134df4d",
   "metadata": {},
   "outputs": [],
   "source": [
    "assets_rasterized_xarr = burned_squeeze.copy()\n",
    "assets_rasterized_xarr.data = assets_rasterized\n",
    "\n",
    "# visualize zones\n",
    "assets_rasterized_xarr.plot()"
   ]
  },
  {
   "cell_type": "markdown",
   "id": "6de4990d",
   "metadata": {},
   "source": [
    "## Perform Zonal Statistcs"
   ]
  },
  {
   "cell_type": "code",
   "execution_count": null,
   "id": "abbcb120",
   "metadata": {},
   "outputs": [],
   "source": [
    "from xrspatial import zonal_stats\n",
    "stats = zonal_stats(assets_rasterized_xarr, burned_squeeze)"
   ]
  },
  {
   "cell_type": "code",
   "execution_count": null,
   "id": "8951b7c1",
   "metadata": {},
   "outputs": [],
   "source": [
    "stats"
   ]
  },
  {
   "cell_type": "markdown",
   "id": "c76c2cea",
   "metadata": {},
   "source": [
    "Exercise: Zonal stats over slope zones\n",
    "\n",
    "Now let's look into the burned areas in relation to slope classes like [Zhai et al., 2023](https://www.mdpi.com/1999-4907/14/4/807) have done. To reproduce their analysis, we will:\n",
    "1. Reclassify the slope classes into 5 categories  0%–5%, 5%–10%, 10%–15%, 15%–25%, and above 25%, then,\n",
    "2. Perform the zonal statistics on the above categories.\n",
    "\n",
    "Hint:\n",
    "1. Load slope data from 'slope_dask.tif'.\n",
    "2. The big chellenge will be how to compute the slope zones. Consider:\n",
    "    - Convert slope data to zones using [`numpy.digitize`](https://numpy.org/doc/stable/reference/generated/numpy.digitize.html).\n",
    "    - Use [`xarray.apply_ufunc`](https://docs.xarray.dev/en/stable/generated/xarray.apply_ufunc.html) to apply `numpy.digitize` to all the elements in an Xarray. \n",
    "4. Note that the slope data and burn index data are in different resolution."
   ]
  },
  {
   "cell_type": "code",
   "execution_count": null,
   "id": "6f2f7d87",
   "metadata": {},
   "outputs": [],
   "source": [
    "import numpy as np\n",
    "import xarray as xr\n",
    "\n",
    "# Load data and remove redundant dimension\n",
    "# slope = rioxarray.open_rasterio('slope.tif').squeeze()\n",
    "slope = rioxarray.open_rasterio('slope_dask.tif', masked=True).squeeze()\n",
    "\n",
    "# Defines the bins for pixel values\n",
    "# Zone 0 will be values <=0.; Zone 5 will be values >0.25; Zone 6 will be NaN values(>1000)\n",
    "slope_bins = (0., 0.05, 0.1, 0.15, 0.25, 1000)\n",
    "\n",
    "slope_zones = xr.apply_ufunc(\n",
    "    np.digitize,\n",
    "    slope,\n",
    "    slope_bins\n",
    ")\n",
    "\n",
    "# Reproject burned to slope\n",
    "# Because slope zones has lower resolution\n",
    "burned = rioxarray.open_rasterio('burned.tif').squeeze()\n",
    "burned_match = burned.rio.reproject_match(slope_zones)\n",
    "\n",
    "# Compute Zonal stats\n",
    "stats = zonal_stats(slope_zones, burned_match)\n"
   ]
  },
  {
   "cell_type": "code",
   "execution_count": null,
   "id": "4cab5e96",
   "metadata": {},
   "outputs": [],
   "source": [
    "# Visualize slope zones\n",
    "slope_zones.plot()"
   ]
  },
  {
   "cell_type": "code",
   "execution_count": null,
   "id": "95d2cc47",
   "metadata": {},
   "outputs": [],
   "source": [
    "stats"
   ]
  }
 ],
 "metadata": {
  "jupytext": {
   "main_language": "python"
  },
  "kernelspec": {
   "display_name": "geospatial",
   "language": "python",
   "name": "python3"
  },
  "language_info": {
   "codemirror_mode": {
    "name": "ipython",
    "version": 3
   },
   "file_extension": ".py",
   "mimetype": "text/x-python",
   "name": "python",
   "nbconvert_exporter": "python",
   "pygments_lexer": "ipython3",
   "version": "3.10.12"
  }
 },
 "nbformat": 4,
 "nbformat_minor": 5
}

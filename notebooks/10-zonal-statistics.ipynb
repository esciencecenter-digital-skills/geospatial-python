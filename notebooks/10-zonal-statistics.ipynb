{
 "cells": [
  {
   "cell_type": "markdown",
   "id": "45df8c24",
   "metadata": {},
   "source": [
    "-   How to compute raster statistics on different zones delineated by vector data?\n",
    "\n",
    "-   Extract zones from the vector dataset\n",
    "-   Convert vector data to raster\n",
    "-   Calculate raster statistics over zones\n",
    "\n",
    "# Introduction\n",
    "\n",
    "Statistics on predefined zones of the raster data are commonly used for analysis and to better understand the data. These zones are often provided within a single vector dataset, identified by certain vector attributes. For example, in the previous episodes, we used the crop field polygon dataset. The fields with the same crop type can be identified as a “zone”, resulting in multiple zones in one vector dataset. One may be interested in performing statistical analysis over these crop zones.\n",
    "\n",
    "In this episode, we will explore how to calculate zonal statistics based on the types of crops in `fields_cropped.shp`. To do this, we will first identify zones from the vector data, then rasterize these vector zones. Finally the zonal statistics for `ndvi` will be calculated over the rasterized zones.\n",
    "\n",
    "# Making vector and raster data compatible\n",
    "\n",
    "First, let’s load the `NDVI.tif` file saved in the previous episode to obtained our calculated raster `ndvi` data. We also use the `squeeze()` function in order to reduce our raster data `ndvi` dimension to 2D by removing the singular `band` dimension - this is necessary for use with the `rasterize` and `zonal_stats` functions:"
   ]
  },
  {
   "cell_type": "code",
   "execution_count": null,
   "id": "a739fdaa",
   "metadata": {},
   "outputs": [],
   "source": [
    "import rioxarray\n",
    "ndvi = rioxarray.open_rasterio(\"NDVI.tif\").squeeze()"
   ]
  },
  {
   "cell_type": "markdown",
   "id": "bf8bd297",
   "metadata": {},
   "source": [
    "Let’s also read the crop fields vector data from our saved `fields_cropped.shp` file."
   ]
  },
  {
   "cell_type": "code",
   "execution_count": null,
   "id": "2026781c",
   "metadata": {},
   "outputs": [],
   "source": [
    "import geopandas as gpd\n",
    "fields = gpd.read_file('fields_cropped.shp')"
   ]
  },
  {
   "cell_type": "markdown",
   "id": "597eb79c",
   "metadata": {},
   "source": [
    "In order to use the vector data as a classifier for our raster, we need to convert the vector data to the appropriate CRS. We can perform the CRS conversion from the vector CRS (EPSG:28992) to our raster `ndvi` CRS (EPSG:32631) with:"
   ]
  },
  {
   "cell_type": "code",
   "execution_count": null,
   "id": "55deb6cf",
   "metadata": {},
   "outputs": [],
   "source": [
    "# Uniform CRS\n",
    "fields_utm = fields.to_crs(ndvi.rio.crs)"
   ]
  },
  {
   "cell_type": "markdown",
   "id": "b58fde0d",
   "metadata": {},
   "source": [
    "# Rasterizing the vector data\n",
    "\n",
    "Before calculating zonal statistics, we first need to rasterize our `fields_utm` vector geodataframe with the `rasterio.features.rasterize` function. With this function, we aim to produce a grid with numerical values representing the types of crops as defined by the column `gewascode` from `field_cropped` - `gewascode` stands for the crop codes as defined by the Netherlands Enterprise Agency (RVO) for different types of crop or `gewas` (Grassland, permanent; Grassland, temporary; corn fields; etc.). This grid of values thus defines the zones for the `xrspatial.zonal_stats` function, where each pixel in the zone grid overlaps with a corresponding pixel in our NDVI raster.\n",
    "\n",
    "We can generate the `geometry, gewascode` pairs for each vector feature to be used as the first argument to `rasterio.features.rasterize` as:"
   ]
  },
  {
   "cell_type": "code",
   "execution_count": null,
   "id": "b137ce17",
   "metadata": {},
   "outputs": [],
   "source": [
    "geom = fields_utm[['geometry', 'gewascode']].values.tolist()\n",
    "geom"
   ]
  },
  {
   "cell_type": "markdown",
   "id": "1d703e6a",
   "metadata": {},
   "source": [
    "``` output\n",
    "[[<shapely.geometry.polygon.Polygon at 0x7ff88666f670>, 265],\n",
    " [<shapely.geometry.polygon.Polygon at 0x7ff86bf39280>, 265],\n",
    " [<shapely.geometry.polygon.Polygon at 0x7ff86ba1db80>, 265],\n",
    " [<shapely.geometry.polygon.Polygon at 0x7ff86ba1d730>, 265],\n",
    " [<shapely.geometry.polygon.Polygon at 0x7ff86ba1d400>, 265],\n",
    " [<shapely.geometry.polygon.Polygon at 0x7ff86ba1d130>, 265],\n",
    "...\n",
    " [<shapely.geometry.polygon.Polygon at 0x7ff88685c970>, 265],\n",
    " [<shapely.geometry.polygon.Polygon at 0x7ff88685c9a0>, 265],\n",
    " [<shapely.geometry.polygon.Polygon at 0x7ff88685c9d0>, 265],\n",
    " [<shapely.geometry.polygon.Polygon at 0x7ff88685ca00>, 331],\n",
    " ...]\n",
    "```\n",
    "\n",
    "This generates a list of the shapely geometries from the `geometry` column, and the unique field ID from the `gewascode` column in the `fields_utm` geodataframe.\n",
    "\n",
    "We can now rasterize our vector data using `rasterio.features.rasterize`:"
   ]
  },
  {
   "cell_type": "code",
   "execution_count": null,
   "id": "e6c3eaf0",
   "metadata": {},
   "outputs": [],
   "source": [
    "from rasterio import features\n",
    "fields_rasterized = features.rasterize(geom, out_shape=ndvi.shape, transform=ndvi.rio.transform())"
   ]
  },
  {
   "cell_type": "markdown",
   "id": "b3815176",
   "metadata": {},
   "source": [
    "The argument `out_shape` specifies the shape of the output grid in pixel units, while `transform` represents the projection from pixel space to the projected coordinate space. By default, the pixels that are not contained within a polygon in our shapefile will be filled with 0. It’s important to pick a fill value that is not the same as any value already defined in `gewascode` or else we won’t distinguish between this zone and the background.\n",
    "\n",
    "Let’s inspect the results of rasterization:"
   ]
  },
  {
   "cell_type": "code",
   "execution_count": null,
   "id": "a58e59ad",
   "metadata": {},
   "outputs": [],
   "source": [
    "import numpy as np\n",
    "print(fields_rasterized.shape)\n",
    "print(np.unique(fields_rasterized))"
   ]
  },
  {
   "cell_type": "markdown",
   "id": "ceecf5a2",
   "metadata": {},
   "source": [
    "``` output\n",
    "(500, 500)\n",
    "[  0 259 265 266 331 332 335 863]\n",
    "```\n",
    "\n",
    "The output `fields_rasterized` is an `np.ndarray` with the same shape as `ndvi`. It contains `gewascode` values at the location of fields, and 0 outside the fields. Let’s visualize it:"
   ]
  },
  {
   "cell_type": "code",
   "execution_count": null,
   "id": "fa82044d",
   "metadata": {},
   "outputs": [],
   "source": [
    "from matplotlib import pyplot as plt\n",
    "plt.imshow(fields_rasterized)\n",
    "plt.colorbar()"
   ]
  },
  {
   "cell_type": "markdown",
   "id": "f2cb8c51",
   "metadata": {},
   "source": [
    "<img src=\"attachment:fig/E10/rasterization-results.png\" alt=\"rasterization results\" />\n",
    "\n",
    "We will convert the output to `xarray.DataArray` which will be used further. To do this, we will “borrow” the coordinates from `ndvi`, and fill in the rasterization data:"
   ]
  },
  {
   "cell_type": "code",
   "execution_count": null,
   "id": "f134df4d",
   "metadata": {},
   "outputs": [],
   "source": [
    "import xarray as xr\n",
    "fields_rasterized_xarr = ndvi.copy()\n",
    "fields_rasterized_xarr.data = fields_rasterized\n",
    "\n",
    "# visualize\n",
    "fields_rasterized_xarr.plot(robust=True)"
   ]
  },
  {
   "cell_type": "markdown",
   "id": "2f9d2e9d",
   "metadata": {},
   "source": [
    "<img src=\"attachment:fig/E10/rasterization-results-xr.png\" alt=\"Rasterization results Xarray\" />\n",
    "\n",
    "# Calculate zonal statistics\n",
    "\n",
    "In order to calculate the statistics for each crop zone, we call the function, `xrspatial.zonal_stats`. The `xrspatial.zonal_stats` function takes as input `zones`, a 2D `xarray.DataArray`, that defines different zones, and `values`, a 2D `xarray.DataArray` providing input values for calculating statistics.\n",
    "\n",
    "We call the `zonal_stats` function with `fields_rasterized_xarr` as our classifier and the 2D raster with our values of interest `ndvi` to obtain the NDVI statistics for each crop type:"
   ]
  },
  {
   "cell_type": "code",
   "execution_count": null,
   "id": "abbcb120",
   "metadata": {},
   "outputs": [],
   "source": [
    "from xrspatial import zonal_stats\n",
    "zonal_stats(fields_rasterized_xarr, ndvi)"
   ]
  },
  {
   "cell_type": "markdown",
   "id": "fb61558c",
   "metadata": {},
   "source": [
    "``` output\n",
    "\tzone\tmean\tmax\tmin\tsum\tstd\tvar\tcount\n",
    "0\t0\t0.266531\t0.999579\t-0.998648\t38887.648438\t0.409970\t0.168075\t145903.0\n",
    "1\t259\t0.520282\t0.885242\t0.289196\t449.003052\t0.111205\t0.012366\t863.0\n",
    "2\t265\t0.775609\t0.925955\t0.060755\t66478.976562\t0.091089\t0.008297\t85712.0\n",
    "3\t266\t0.794128\t0.918048\t0.544686\t1037.925781\t0.074009\t0.005477\t1307.0\n",
    "4\t331\t0.703056\t0.905304\t0.142226\t10725.819336\t0.102255\t0.010456\t15256.0\n",
    "5\t332\t0.681699\t0.849158\t0.178113\t321.080261\t0.123633\t0.015285\t471.0\n",
    "6\t335\t0.648063\t0.865804\t0.239661\t313.662598\t0.146582\t0.021486\t484.0\n",
    "7\t863\t0.388575\t0.510572\t0.185987\t1.165724\t0.144245\t0.020807\t3.0\n",
    "```\n",
    "\n",
    "The `zonal_stats` function calculates the minimum, maximum, and sum for each zone along with statistical measures such as the mean, variance and standard deviation for each rasterized vector zone. In our raster dataset `zone = 0`, corresponding to non-crop areas, has the highest count followed by `zone = 265` which corresponds to ‘Grasland, blijvend’ or ‘Grassland, permanent’. The highest mean NDVI is observed for `zone = 266` for ‘Grasslands, temporary’ with the lowest mean, aside from non-crop area, going to `zone = 863` representing ‘Forest without replanting obligation’. Thus, the `zonal_stats` function can be used to analyze and understand different sections of our raster data. The definition of the zones can be derived from vector data or from classified raster data as presented in the challenge below:\n",
    "\n",
    "## Exercise: Calculate zonal statistics for zones defined by `ndvi_classified`\n",
    "\n",
    "Let’s calculate NDVI zonal statistics for the different zones as classified by `ndvi_classified` in the previous episode.\n",
    "\n",
    "Load both raster datasets: `NDVI.tif` and `NDVI_classified.tif`. Then, calculate zonal statistics for each `class_bins`. Inspect the output of the `zonal_stats` function.\n",
    "\n",
    "1.  Load and convert raster data into suitable inputs for `zonal_stats`:"
   ]
  },
  {
   "cell_type": "code",
   "execution_count": null,
   "id": "e59c81e2",
   "metadata": {},
   "outputs": [],
   "source": [
    "ndvi = rioxarray.open_rasterio(\"NDVI.tif\").squeeze()\n",
    "ndvi_classified = rioxarray.open_rasterio(\"NDVI_classified.tif\").squeeze()"
   ]
  },
  {
   "cell_type": "markdown",
   "id": "c71b51fd",
   "metadata": {},
   "source": [
    "1.  Create and display the zonal statistics table."
   ]
  },
  {
   "cell_type": "code",
   "execution_count": null,
   "id": "a61b5479",
   "metadata": {},
   "outputs": [],
   "source": [
    "zonal_stats(ndvi_classified, ndvi)"
   ]
  },
  {
   "cell_type": "markdown",
   "id": "d4ce21bc",
   "metadata": {},
   "source": [
    "``` output\n",
    "\tzone    mean       max        min           sum         std      var\t  count  \n",
    "0     1  -0.355660  -0.000257  -0.998648  -12838.253906  0.145916  0.021291  36097.0  \n",
    "1     2   0.110731   0.199839   0.000000    1754.752441  0.055864  0.003121  15847.0  \n",
    "2     3   0.507998   0.700000   0.200000   50410.167969  0.140193  0.019654  99233.0  \n",
    "3     4   0.798281   0.999579   0.700025   78888.523438  0.051730  0.002676  98823.0\n",
    "```\n",
    "\n",
    "-   Zones can be extracted by attribute columns of a vector dataset\n",
    "-   Zones can be rasterized using `rasterio.features.rasterize`\n",
    "-   Calculate zonal statistics with `xrspatial.zonal_stats` over the rasterized zones."
   ]
  }
 ],
 "metadata": {
  "jupytext": {
   "main_language": "python"
  }
 },
 "nbformat": 4,
 "nbformat_minor": 5
}

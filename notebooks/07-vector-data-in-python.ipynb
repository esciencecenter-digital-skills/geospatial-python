{
 "cells": [
  {
   "cell_type": "markdown",
   "id": "0e9fd7be",
   "metadata": {},
   "source": [
    "-   How can I read, inspect, and process spatial objects, such as points, lines, and polygons?\n",
    "\n",
    "-   Load spatial objects.\n",
    "-   Select the spatial objects within a bounding box.\n",
    "-   Perform a CRS conversion of spatial objects.\n",
    "-   Select features of spatial objects.\n",
    "-   Match objects in two datasets based on their spatial relationships.\n",
    "\n",
    "## Introduction\n",
    "\n",
    "As discussed in [Episode 2: Introduction to Vector Data](02-intro-vector-data.md), vector data represents specific features on the Earth’s surface using points, lines, and polygons. These geographic elements can then have one or more attributes assigned to them, such as ‘name’ and ‘population’ for a city, or crop type for a field. Vector data can be much smaller in (file) size than raster data, while being very rich in terms of the information captured.\n",
    "\n",
    "In this episode, we will be moving from working with raster data to working with vector data. We will use Python to open and plot point, line, and polygon vector data. In particular, we will make use of the [`geopandas`](https://geopandas.org/en/stable/) package to open, manipulate and write vector datasets.\n",
    "\n",
    "<img src=\"attachment:fig/E07/pandas_geopandas_relation.png\" alt=\"Pandas and Geopandas\" />\n",
    "\n",
    "`geopandas` extends the popular `pandas` library for data analysis to geospatial applications. The main `pandas` objects (the `Series` and the `DataFrame`) are expanded to `geopandas` objects (`GeoSeries` and `GeoDataFrame`). This extension is implemented by including geometric types, represented in Python using the `shapely` library, and by providing dedicated methods for spatial operations (union, intersection, etc.). The relationship between `Series`, `DataFrame`, `GeoSeries` and `GeoDataFrame` can be briefly explained as follow:\n",
    "\n",
    "-   A `Series` is a one-dimensional array with axis, holding any data type (integers, strings, floating-point numbers, Python objects, etc.)\n",
    "-   A `DataFrame` is a two-dimensional labeled data structure with columns of potentially different types1.\n",
    "-   A `GeoSeries` is a `Series` object designed to store shapely geometry objects.\n",
    "-   A `GeoDataFrame` is an extened `pandas.DataFrame`, which has a column with geometry objects, and this column is a `GeoSeries`.\n",
    "\n",
    "In later episodes, we will learn how to work with raster and vector data together and combine them into a single plot.\n",
    "\n",
    "## Introduce the Vector Data\n",
    "\n",
    "In this episode, we will use the downloaded vector data in the `data` directory. Please refer to the [setup page](learners/setup.md#troubleshooting-conda-command-not-found) on how to download the data.\n",
    "\n",
    "## Import Vector Datasets"
   ]
  },
  {
   "cell_type": "code",
   "execution_count": null,
   "id": "19beffdb",
   "metadata": {},
   "outputs": [],
   "source": [
    "import geopandas as gpd"
   ]
  },
  {
   "cell_type": "markdown",
   "id": "da625680",
   "metadata": {},
   "source": [
    "We will use the `geopandas` package to load the crop field vector data we downloaded at: `data/brpgewaspercelen_definitief_2020_small.gpkg`."
   ]
  },
  {
   "cell_type": "code",
   "execution_count": null,
   "id": "b2768821",
   "metadata": {},
   "outputs": [],
   "source": [
    "fields = gpd.read_file(\"data/brpgewaspercelen_definitief_2020_small.gpkg\")\n",
    "fields"
   ]
  },
  {
   "cell_type": "markdown",
   "id": "5fea9d2f",
   "metadata": {},
   "source": [
    "The data are read into the variable `fields` as a `GeoDataFrame`. This is an extened data format of `pandas.DataFrame`, with an extra column `geometry`.\n",
    "\n",
    "This file contains a relatively large number of crop field parcels. Directly loading a large file to memory can be slow. If the Area of Interest (AoI) is small, we can define a bounding box of the AoI, and only read the data within the extent of the bounding box."
   ]
  },
  {
   "cell_type": "code",
   "execution_count": null,
   "id": "05839517",
   "metadata": {},
   "outputs": [],
   "source": [
    "# Define bounding box\n",
    "xmin, xmax = (110_000, 140_000)\n",
    "ymin, ymax = (470_000, 510_000)\n",
    "bbox = (xmin, ymin, xmax, ymax)"
   ]
  },
  {
   "cell_type": "markdown",
   "id": "4ee6ad83",
   "metadata": {},
   "source": [
    "Using the `bbox` input argument, we can load only the spatial features intersecting the provided bounding box."
   ]
  },
  {
   "cell_type": "code",
   "execution_count": null,
   "id": "eb161b16",
   "metadata": {},
   "outputs": [],
   "source": [
    "# Partially load data within the bounding box\n",
    "fields = gpd.read_file(\"data/brpgewaspercelen_definitief_2020_small.gpkg\", bbox=bbox)"
   ]
  },
  {
   "cell_type": "markdown",
   "id": "7f9f589e",
   "metadata": {},
   "source": [
    "## How should I define my bounding box?\n",
    "\n",
    "For simplicity, here we assume the **Coordinate Reference System (CRS)** and **extent** of the vector file are known (for instance they are provided in the dataset documentation).\n",
    "\n",
    "You can also define your bounding box with online coordinates visualization tools. For example, we can use the “Draw Rectangular Polygon” tool in [geojson.io](https://geojson.io/#map=8.62/52.45/4.96).\n",
    "\n",
    "Some Python tools, e.g. [`fiona`](https://fiona.readthedocs.io/en/latest/)(which is also the backend of `geopandas`), provide the file inspection functionality without the need to read the full data set into memory. An example can be found in [the documentation of fiona](https://fiona.readthedocs.io/en/latest/manual.html#format-drivers-crs-bounds-and-schema).\n",
    "\n",
    "And we can plot the overview by:"
   ]
  },
  {
   "cell_type": "code",
   "execution_count": null,
   "id": "b880c11e",
   "metadata": {},
   "outputs": [],
   "source": [
    "fields.plot()"
   ]
  },
  {
   "cell_type": "markdown",
   "id": "d8ca25d7",
   "metadata": {},
   "source": [
    "<img src=\"attachment:fig/E07/fields.png\" alt=\"Crop fields inside the AOI\" />\n",
    "\n",
    "## Vector Metadata & Attributes\n",
    "\n",
    "When we read the vector dataset with Python (as our `fields` variable) it is loaded as a `GeoDataFrame` object. The `read_file()` function also automatically stores geospatial information about the data. We are particularly interested in describing the format, CRS, extent, and other components of the vector data, and the attributes which describe properties associated\n",
    "with each vector object.\n",
    "\n",
    "We will explore\n",
    "\n",
    "1.  **Object Type:** the class of the imported object.\n",
    "2.  **Coordinate Reference System (CRS):** the projection of the data.\n",
    "3.  **Extent:** the spatial extent (i.e. geographic area that the data covers). Note that the spatial extent for a vector dataset represents the combined extent for all spatial objects in the dataset.\n",
    "\n",
    "Each `GeoDataFrame` has a `\"geometry\"` column that contains geometries. In the case of our `fields` object, this geometry is represented by a `shapely.geometry.Polygon` object. `geopandas` uses the `shapely` library to represent polygons, lines, and points, so the types are inherited from `shapely`.\n",
    "\n",
    "We can view the metadata using the `.crs`, `.bounds` and `.type` attributes. First, let’s view the\n",
    "geometry type for our crop field dataset. To view the geometry type, we use the `pandas` method `.type` on the `GeoDataFrame` object, `fields`."
   ]
  },
  {
   "cell_type": "code",
   "execution_count": null,
   "id": "dd82ff33",
   "metadata": {},
   "outputs": [],
   "source": [
    "fields.type"
   ]
  },
  {
   "cell_type": "markdown",
   "id": "e6ba5e5b",
   "metadata": {},
   "source": [
    "``` output\n",
    "0        Polygon\n",
    "1        Polygon\n",
    "2        Polygon\n",
    "3        Polygon\n",
    "4        Polygon\n",
    "          ...\n",
    "22026    Polygon\n",
    "22027    Polygon\n",
    "22028    Polygon\n",
    "22029    Polygon\n",
    "22030    Polygon\n",
    "Length: 22031, dtype: object\n",
    "```\n",
    "\n",
    "To view the CRS metadata:"
   ]
  },
  {
   "cell_type": "code",
   "execution_count": null,
   "id": "04d63bc3",
   "metadata": {},
   "outputs": [],
   "source": [
    "fields.crs"
   ]
  },
  {
   "cell_type": "markdown",
   "id": "6a88906f",
   "metadata": {},
   "source": [
    "``` output\n",
    "<Derived Projected CRS: EPSG:28992>\n",
    "Name: Amersfoort / RD New\n",
    "Axis Info [cartesian]:\n",
    "- X[east]: Easting (metre)\n",
    "- Y[north]: Northing (metre)\n",
    "Area of Use:\n",
    "- name: Netherlands - onshore, including Waddenzee, Dutch Wadden Islands and 12-mile offshore coastal zone.\n",
    "- bounds: (3.2, 50.75, 7.22, 53.7)\n",
    "Coordinate Operation:\n",
    "- name: RD New\n",
    "- method: Oblique Stereographic\n",
    "Datum: Amersfoort\n",
    "- Ellipsoid: Bessel 1841\n",
    "- Prime Meridian: Greenwich\n",
    "```\n",
    "\n",
    "Our data is in the CRS **RD New**. The CRS is critical to\n",
    "interpreting the object’s extent values as it specifies units. To find\n",
    "the extent of our dataset in the projected coordinates, we can use the `.total_bounds` attribute:"
   ]
  },
  {
   "cell_type": "code",
   "execution_count": null,
   "id": "fd56450f",
   "metadata": {},
   "outputs": [],
   "source": [
    "fields.total_bounds"
   ]
  },
  {
   "cell_type": "markdown",
   "id": "1c1e60e1",
   "metadata": {},
   "source": [
    "``` output\n",
    "array([109222.03325 , 469461.512625, 140295.122125, 510939.997875])\n",
    "```\n",
    "\n",
    "This array contains, in order, the values for minx, miny, maxx and maxy, for the overall dataset. The spatial extent of a GeoDataFrame represents the geographic “edge” or location that is the furthest north, south, east, and west. Thus, it represents the overall geographic coverage of the spatial object.\n",
    "\n",
    "We can convert these coordinates to a bounding box or acquire the index of the Dataframe to access the geometry. Either of these polygons can be used to clip rasters (more on that later).\n",
    "\n",
    "## Further crop the dataset\n",
    "\n",
    "We might realize that the loaded dataset is still too large. If we want to refine our area of interest to an even smaller extent, without reloading the data, we can use the [`cx`](https://geopandas.org/en/stable/docs/reference/api/geopandas.GeoDataFrame.cx.html) indexer:"
   ]
  },
  {
   "cell_type": "code",
   "execution_count": null,
   "id": "54479907",
   "metadata": {},
   "outputs": [],
   "source": [
    "# A smaller bounding box in RD\n",
    "xmin, xmax = (120_000, 135_000)\n",
    "ymin, ymax = (485_000, 500_000)\n",
    "\n",
    "fields_cx = fields.cx[xmin:xmax, ymin:ymax]"
   ]
  },
  {
   "cell_type": "markdown",
   "id": "7ea9e9bb",
   "metadata": {},
   "source": [
    "## Export data to file\n",
    "\n",
    "We will save the cropped results to a shapefile (`.shp`) and use it later. The `to_file` function can be used for exportation:"
   ]
  },
  {
   "cell_type": "code",
   "execution_count": null,
   "id": "f7d15949",
   "metadata": {},
   "outputs": [],
   "source": [
    "fields_cx.to_file('fields_cropped.shp')"
   ]
  },
  {
   "cell_type": "markdown",
   "id": "d79d77a0",
   "metadata": {},
   "source": [
    "This will write it to disk (in this case, in ‘shapefile’ format), containing only the data from our cropped area. It can be read again at a later time using the `read_file()` method we have been using above. Note that this actually writes multiple files to disk (`fields_cropped.cpg`, `fields_cropped.dbf`, `fields_cropped.prj`, `fields_cropped.shp`, `fields_cropped.shx`). All these files should ideally be present in order to re-read the dataset later, although only the `.shp`, `.shx`, and `.dbf` files are mandatory (see the [Introduction to Vector Data](02-intro-vector-data.md) lesson for more information.)\n",
    "\n",
    "## Selecting spatial features\n",
    "\n",
    "From now on, we will take in a point dataset `brogmwvolledigeset.zip`, which is the underground water monitoring wells. We will perform vector processing on this dataset, together with the cropped field polygons `fields_cropped.shp`.\n",
    "\n",
    "Let’s read the two datasets."
   ]
  },
  {
   "cell_type": "code",
   "execution_count": null,
   "id": "f9446ee3",
   "metadata": {},
   "outputs": [],
   "source": [
    "fields = gpd.read_file(\"fields_cropped.shp\")\n",
    "wells = gpd.read_file(\"data/brogmwvolledigeset.zip\")"
   ]
  },
  {
   "cell_type": "markdown",
   "id": "f045b9e0",
   "metadata": {},
   "source": [
    "And take a look at the wells:"
   ]
  },
  {
   "cell_type": "code",
   "execution_count": null,
   "id": "93435616",
   "metadata": {},
   "outputs": [],
   "source": [
    "wells.plot(markersize=0.1)"
   ]
  },
  {
   "cell_type": "markdown",
   "id": "7fc95af0",
   "metadata": {},
   "source": [
    "<img src=\"attachment:fig/E07/wells-nl.png\" alt=\"all wells in the NL\" />\n",
    "\n",
    "The points represents all the wells over the Netherlands. Since the wells are in the lat/lon coordinates. To make it comparable with fields, we need to first transfer the CRS to the “RD New” projection:"
   ]
  },
  {
   "cell_type": "code",
   "execution_count": null,
   "id": "6a8c5de3",
   "metadata": {},
   "outputs": [],
   "source": [
    "wells = wells.to_crs(epsg=28992)"
   ]
  },
  {
   "cell_type": "markdown",
   "id": "2e5715a3",
   "metadata": {},
   "source": [
    "Now we would like to compare the wells with the cropped fields. We can select the wells within the fields using the `.clip` function:"
   ]
  },
  {
   "cell_type": "code",
   "execution_count": null,
   "id": "1fd033a5",
   "metadata": {},
   "outputs": [],
   "source": [
    "wells_clip = wells.clip(fields)\n",
    "wells_clip"
   ]
  },
  {
   "cell_type": "markdown",
   "id": "34fe476a",
   "metadata": {},
   "source": [
    "``` output\n",
    "bro_id delivery_accountable_party quality_regime  ...\n",
    "40744  GMW000000043703  27364178    IMBRO/A    ...\n",
    "38728  GMW000000045818  27364178    IMBRO/A    ...\n",
    "...                ...       ...        ...    ...\n",
    "40174  GMW000000043963  27364178    IMBRO/A    ...\n",
    "19445  GMW000000024992  50200097    IMBRO/A    ...\n",
    "[79 rows x 40 columns]\n",
    "```\n",
    "\n",
    "After this selection, all the wells outside the fields are dropped. This takes a while to execute, because we are clipping a relatively large number of points with many polygons.\n",
    "\n",
    "If we do not want a precise clipping, but rather have the points in the neighborhood of the fields, we will need to create another polygon, which is slightly bigger than the coverage of the field. To do this, we can increase the size of the field polygons, to make them overlap with each other, and then merge the overlapping polygons together.\n",
    "\n",
    "We will first use the `buffer` function to increase field size with a given `distance`. The unit of the `distance` argument is the same as the CRS. Here we use a 50-meter buffer. Also notice that the `.buffer` function produces a `GeoSeries`, so to keep the other columns, we assign it to the `GeoDataFrame` as a geometry column."
   ]
  },
  {
   "cell_type": "code",
   "execution_count": null,
   "id": "7777ef56",
   "metadata": {},
   "outputs": [],
   "source": [
    "buffer = fields.buffer(50)\n",
    "fields_buffer = fields.copy()\n",
    "fields_buffer['geometry'] = buffer\n",
    "fields_buffer.plot()"
   ]
  },
  {
   "cell_type": "markdown",
   "id": "ddf51cd5",
   "metadata": {},
   "source": [
    "<img src=\"attachment:fig/E07/fields-buffer.png\" alt=\"50m buffer around the fields\" />\n",
    "\n",
    "To further simplify them, we can use the `dissolve` function to dissolve the buffers into one:"
   ]
  },
  {
   "cell_type": "code",
   "execution_count": null,
   "id": "c60a9c30",
   "metadata": {},
   "outputs": [],
   "source": [
    "fields_buffer_dissolve = fields_buffer.dissolve()\n",
    "fields_buffer_dissolve"
   ]
  },
  {
   "cell_type": "markdown",
   "id": "c79c626f",
   "metadata": {},
   "source": [
    "All the fields will be dissolved into one multi-polygon, which can be used to `clip` the wells."
   ]
  },
  {
   "cell_type": "code",
   "execution_count": null,
   "id": "672df73a",
   "metadata": {},
   "outputs": [],
   "source": [
    "wells_clip_buffer = wells.clip(fields_buffer_dissolve)\n",
    "wells_clip_buffer.plot()"
   ]
  },
  {
   "cell_type": "markdown",
   "id": "09964e87",
   "metadata": {},
   "source": [
    "<img src=\"attachment:fig/E07/wells-in-buffer.png\" alt=\"Wells within 50m buffer of fields\" />\n",
    "\n",
    "In this way, we selected all wells within the 50m range of the fields. It is also significantly faster than the previous `clip` operation, since the number of polygons is much smaller after `dissolve`.\n",
    "\n",
    "## Exercise: clip fields within 500m from the wells\n",
    "\n",
    "This time, we will do a selection the other way around. Can you clip the field polygons (stored in fields_cropped.shp) with the 500m buffer of the wells (stored in brogmwvolledigeset.zip)? Please visualize the results.\n",
    "\n",
    "-   Hint 1: The file `brogmwvolledigeset.zip` is in CRS 4326. Don’t forget the CRS conversion.\n",
    "\n",
    "-   Hint 2: `brogmwvolledigeset.zip` contains all the wells in the Netherlands, which means it might be too big for the `.buffer()` function. To improve the performance, first crop it with the bounding box of the fields."
   ]
  },
  {
   "cell_type": "code",
   "execution_count": null,
   "id": "b5d45350",
   "metadata": {},
   "outputs": [],
   "source": [
    "# Read in data\n",
    "fields =  gpd.read_file(\"fields_cropped.shp\")\n",
    "wells = gpd.read_file(\"data/brogmwvolledigeset.zip\")\n",
    "\n",
    "# Crop points with bounding box\n",
    "xmin, ymin, xmax, ymax = fields.total_bounds\n",
    "wells = wells.to_crs(28992)\n",
    "wells_cx = wells.cx[xmin-500:xmax+500, ymin-500:ymax+500]\n",
    "\n",
    "# Create buffer\n",
    "wells_cx_500mbuffer = wells_cx.copy()\n",
    "wells_cx_500mbuffer['geometry'] = wells_cx.buffer(500)\n",
    "\n",
    "# Clip\n",
    "fields_clip_buffer = fields.clip(wells_cx_500mbuffer)\n",
    "fields_clip_buffer.plot()"
   ]
  },
  {
   "cell_type": "markdown",
   "id": "ce70ab24",
   "metadata": {},
   "source": [
    "<img src=\"attachment:fig/E07/fields-in-buffer-clip.png\" alt=\"fields within 50m buffer of the wells, truncated\" />\n",
    "\n",
    "## Spatially join the features\n",
    "\n",
    "In the exercise, we clipped the fields polygons with the 500m buffers of wells. The results from this clipping changed the shape of the polygons. If we would like to keep the original shape of the fields, one way is to use the `sjoin` function, which join two `GeoDataFrame`’s on the basis of their spatial relationship:"
   ]
  },
  {
   "cell_type": "code",
   "execution_count": null,
   "id": "6328d565",
   "metadata": {},
   "outputs": [],
   "source": [
    "# Join fields and wells_cx_500mbuffer\n",
    "fields_wells_buffer = fields.sjoin(wells_cx_500mbuffer)\n",
    "print(fields_wells_buffer.shape)"
   ]
  },
  {
   "cell_type": "markdown",
   "id": "e04966a9",
   "metadata": {},
   "source": [
    "``` output\n",
    "(11420, 46)\n",
    "```\n",
    "\n",
    "This will result in a `GeodataFrame` of all possible combinations of polygons and well buffers intersecting each other. Since a polygon can fall into multiple buffers, there will be duplicated field indexes in the results. To select the fields which intersects the well buffers, we can first get the unique indexes, and use the `iloc` indexer to select:"
   ]
  },
  {
   "cell_type": "code",
   "execution_count": null,
   "id": "93607dd6",
   "metadata": {},
   "outputs": [],
   "source": [
    "idx = fields_wells_buffer.index.unique()\n",
    "fiedls_in_buffer = fields.iloc[idx]\n",
    "\n",
    "fiedls_in_buffer.plot()"
   ]
  },
  {
   "cell_type": "markdown",
   "id": "838f3a66",
   "metadata": {},
   "source": [
    "<img src=\"attachment:fig/E07/fields-in-buffer-sjoin.png\" alt=\"Fields in 50m buffer of wells, not truncated\" />\n",
    "\n",
    "## Modify the geometry of a GeoDataFrame\n",
    "\n",
    "## Exercise: Investigate the waterway lines\n",
    "\n",
    "Now we will take a deeper look at the Dutch waterway lines: `waterways_nl`. Let’s load the file `status_vaarweg.zip`, and visualize it with the `plot()` function. Can you tell what is wrong with this vector file?\n",
    "\n",
    "By plotting out the vector file, we can tell that the latitude and longitude of the file are flipped."
   ]
  },
  {
   "cell_type": "code",
   "execution_count": null,
   "id": "754b9798",
   "metadata": {},
   "outputs": [],
   "source": [
    "waterways_nl = gpd.read_file('data/status_vaarweg.zip')\n",
    "waterways_nl.plot()"
   ]
  },
  {
   "cell_type": "markdown",
   "id": "3bdb12b6",
   "metadata": {},
   "source": [
    "<img src=\"attachment:fig/E07/waterways-wrong.png\" alt=\"waterways, rotated\" />\n",
    "\n",
    "## Axis ordering\n",
    "\n",
    "According to the standards, the axis ordering for a CRS should follow the definition provided by the competent authority. For the commonly used EPSG:4326 geographic coordinate system, the EPSG defines the ordering as first latitude then longitude.\n",
    "However, in the GIS world, it is custom to work with coordinate tuples where the first component is aligned with the east/west direction and the second component is aligned with the north/south direction.\n",
    "Multiple software packages thus implement this convention also when dealing with EPSG:4326.\n",
    "As a result, one can encounter vector files that implement either convention - keep this in mind and always check your datasets!\n",
    "\n",
    "Sometimes we need to modify the `geometry` of a `GeoDataFrame`. For example, as we have seen in the previous exercise **Investigate the waterway lines**, the latitude and longitude are flipped in the vector data `waterways_nl`. This error needs to be fixed before performing further analysis.\n",
    "\n",
    "Let’s first take a look on what makes up the `geometry` column of `waterways_nl`:"
   ]
  },
  {
   "cell_type": "code",
   "execution_count": null,
   "id": "750b91ad",
   "metadata": {},
   "outputs": [],
   "source": [
    "waterways_nl['geometry']"
   ]
  },
  {
   "cell_type": "markdown",
   "id": "bd3017ce",
   "metadata": {},
   "source": [
    "``` output\n",
    "0     LINESTRING (52.41810 4.84060, 52.42070 4.84090...\n",
    "1     LINESTRING (52.11910 4.67450, 52.11930 4.67340...\n",
    "2     LINESTRING (52.10090 4.25730, 52.10390 4.25530...\n",
    "3     LINESTRING (53.47250 6.84550, 53.47740 6.83840...\n",
    "4     LINESTRING (52.32270 5.14300, 52.32100 5.14640...\n",
    "                            ...\n",
    "86    LINESTRING (51.49270 5.39100, 51.48050 5.39160...\n",
    "87    LINESTRING (52.15900 5.38510, 52.16010 5.38340...\n",
    "88    LINESTRING (51.97340 4.12420, 51.97110 4.12220...\n",
    "89    LINESTRING (52.11910 4.67450, 52.11850 4.67430...\n",
    "90    LINESTRING (51.88940 4.61900, 51.89040 4.61350...\n",
    "Name: geometry, Length: 91, dtype: geometry\n",
    "```\n",
    "\n",
    "Each row is a `LINESTRING` object. We can further zoom into one of the rows, for example, the third row:"
   ]
  },
  {
   "cell_type": "code",
   "execution_count": null,
   "id": "33fde49a",
   "metadata": {},
   "outputs": [],
   "source": [
    "print(waterways_nl['geometry'][2])\n",
    "print(type(waterways_nl['geometry'][2]))"
   ]
  },
  {
   "cell_type": "markdown",
   "id": "5df1368a",
   "metadata": {},
   "source": [
    "``` output\n",
    "LINESTRING (52.100900002 4.25730000099998, 52.1039 4.25529999999998, 52.111299999 4.24929999900002, 52.1274 4.23449999799999)\n",
    "<class 'shapely.geometry.linestring.LineString'>\n",
    "```\n",
    "\n",
    "As we can see in the output, the `LINESTRING` object contains a list of coordinates of the vertices. In our situation, we would like to find a way to flip the x and y of every coordinates set. A good way to look for the solution is to use the [documentation](https://shapely.readthedocs.io/en/stable/manual.html) of the `shapely` package, since we are seeking to modify the `LINESTRING` object. Here we are going to use the [`shapely.ops.transform`](https://shapely.readthedocs.io/en/stable/manual.html?highlight=shapely.ops.transform#shapely.ops.transform) function, which applies a self-defined function to all coordinates of a geometry."
   ]
  },
  {
   "cell_type": "code",
   "execution_count": null,
   "id": "a8e7336c",
   "metadata": {},
   "outputs": [],
   "source": [
    "import shapely\n",
    "\n",
    "# Define a function flipping the x and y coordinate values\n",
    "def flip(geometry):\n",
    "    return shapely.ops.transform(lambda x, y: (y, x), geometry)\n",
    "\n",
    "# Apply this function to all coordinates and all lines\n",
    "geom_corrected = waterways_nl['geometry'].apply(flip)"
   ]
  },
  {
   "cell_type": "markdown",
   "id": "7937f8d8",
   "metadata": {},
   "source": [
    "Then we can update the `geometry` column with the corrected geometry `geom_corrected`, and visualize it to check:"
   ]
  },
  {
   "cell_type": "code",
   "execution_count": null,
   "id": "1b1744eb",
   "metadata": {},
   "outputs": [],
   "source": [
    "# Update geometry\n",
    "waterways_nl['geometry'] = geom_corrected\n",
    "\n",
    "# Visualization\n",
    "waterways_nl.plot()"
   ]
  },
  {
   "cell_type": "markdown",
   "id": "f7861d13",
   "metadata": {},
   "source": [
    "<img src=\"attachment:fig/E07/waterways-corrected.png\" alt=\"waterways, corrected\" />\n",
    "\n",
    "Now the waterways look good! We can save the vector data for later usage:"
   ]
  },
  {
   "cell_type": "code",
   "execution_count": null,
   "id": "aefe9d76",
   "metadata": {},
   "outputs": [],
   "source": [
    "# Update geometry\n",
    "waterways_nl.to_file('waterways_nl_corrected.shp')"
   ]
  },
  {
   "cell_type": "markdown",
   "id": "ab58f33b",
   "metadata": {},
   "source": [
    "-   Load spatial objects into Python with `geopandas.read_file()` function.\n",
    "-   Spatial objects can be plotted directly with `GeoDataFrame`’s `.plot()` method.\n",
    "-   Crop spatial objects with `.cx[]` indexer.\n",
    "-   Convert CRS of spatial objects with `.to_crs()`.\n",
    "-   Select spatial features with `.clip()`.\n",
    "-   Create a buffer of spatial objects with `.buffer()`.\n",
    "-   Merge overlapping spatial objects with `.dissolve()`.\n",
    "-   Join spatial features spatially with `.sjoin()`."
   ]
  }
 ],
 "metadata": {
  "jupytext": {
   "main_language": "python"
  }
 },
 "nbformat": 4,
 "nbformat_minor": 5
}

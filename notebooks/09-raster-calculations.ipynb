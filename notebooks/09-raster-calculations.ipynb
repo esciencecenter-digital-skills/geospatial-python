{
 "cells": [
  {
   "cell_type": "markdown",
   "id": "dfc1dfb5",
   "metadata": {},
   "source": [
    "-   How do I perform calculations on rasters and extract pixel values for defined locations?\n",
    "\n",
    "-   Carry out operations with two rasters using Python’s built-in math operators.\n",
    "-   Reclassify a continuous raster to a categorical raster.\n",
    "\n",
    "## Introduction\n",
    "\n",
    "We often want to combine values of and perform calculations on rasters to create a new output raster. This episode\n",
    "covers how to perform basic math operations using raster datasets. It also illustrates how to match rasters with\n",
    "different resolutions so that they can be used in the same calculation. As an example, we will calculate a vegetation\n",
    "index over one of the satellite scenes.\n",
    "\n",
    "### Normalized Difference Vegetation Index (NDVI)\n",
    "\n",
    "Suppose we are interested in monitoring vegetation fluctuations using satellite remote sensors. Scientists have defined\n",
    "a vegetation index to quantify the amount of green leaf vegetation using the light reflected in different wavelengths.\n",
    "This index, named Normalized Difference Vegetation Index (NDVI), exploits the fact that healthy green leaves strongly\n",
    "absorb red visible light while they mostly reflect light in the near infrared (NIR). The NDVI is computed as:\n",
    "\n",
    "$$ NDVI = \\frac{NIR - red}{NIR + red} $$\n",
    "\n",
    "where $NIR$ and $red$ label the reflectance values of the corresponding wavelengths. NDVI values range from -1 to +1.\n",
    "Values close to one indicate high density of green leaves. Poorly vegetated areas typically have NDVI values close to\n",
    "zero. Negative NDVI values often indicate cloud and water bodies.\n",
    "\n",
    "<figure>\n",
    "<img src=\"attachment:fig/E09/PONE-NDVI.jpg\" alt=\"PONE-NDVI image\" />\n",
    "<figcaption>Source: Wu C-D, McNeely E, Cedeño-Laurent JG, Pan W-C, Adamkiewicz G, Dominici F, et al. (2014) Linking Student Performance in Massachusetts Elementary Schools with the “Greenness” of School Surroundings Using Remote Sensing. PLoS ONE 9(10): e108548. https://doi.org/10.1371/journal.pone.0108548</figcaption>\n",
    "</figure>\n",
    "\n",
    "## More Resources\n",
    "\n",
    "Check out more on NDVI in the NASA Earth Observatory portal:\n",
    "[Measuring Vegetation](https://earthobservatory.nasa.gov/features/MeasuringVegetation/measuring_vegetation_2.php).\n",
    "\n",
    "### Load and crop the Data\n",
    "\n",
    "For this episode, we will use one of the Sentinel-2 scenes that we have already employed in the previous episodes.\n",
    "\n",
    "## Introduce the Data\n",
    "\n",
    "We’ll continue from the results of the satellite image search that we have carried out in an exercise from\n",
    "[a previous episode](05-access-data.md). We will load data starting from the `search.json` file.\n",
    "\n",
    "If you would like to work with the data for this lesson without downloading data on-the-fly, you can download the\n",
    "raster data using this [link](https://figshare.com/ndownloader/files/36028100). Save the `geospatial-python-raster-dataset.tar.gz`\n",
    "file in your current working directory, and extract the archive file by double-clicking on it or by running the\n",
    "following command in your terminal `tar -zxvf geospatial-python-raster-dataset.tar.gz`. Use the file `geospatial-python-raster-dataset/search.json`\n",
    "(instead of `search.json`) to get started with this lesson.\n",
    "\n",
    "Let’s load the results of our initial imagery search using `pystac`:"
   ]
  },
  {
   "cell_type": "code",
   "execution_count": null,
   "id": "a1d2fef0",
   "metadata": {},
   "outputs": [],
   "source": [
    "import pystac\n",
    "items = pystac.ItemCollection.from_file(\"search.json\")"
   ]
  },
  {
   "cell_type": "markdown",
   "id": "2695b3d1",
   "metadata": {},
   "source": [
    "We then select the second item, and extract the URIs of the red and NIR bands (“red” and “nir08”, respectively):"
   ]
  },
  {
   "cell_type": "code",
   "execution_count": null,
   "id": "2dcbe4af",
   "metadata": {},
   "outputs": [],
   "source": [
    "red_uri = items[1].assets[\"red\"].href\n",
    "nir_uri = items[1].assets[\"nir08\"].href"
   ]
  },
  {
   "cell_type": "markdown",
   "id": "72e1990d",
   "metadata": {},
   "source": [
    "Let’s load the rasters with `open_rasterio` using the argument `masked=True`."
   ]
  },
  {
   "cell_type": "code",
   "execution_count": null,
   "id": "82328151",
   "metadata": {},
   "outputs": [],
   "source": [
    "import rioxarray\n",
    "red = rioxarray.open_rasterio(red_uri, masked=True)\n",
    "nir = rioxarray.open_rasterio(nir_uri, masked=True)"
   ]
  },
  {
   "cell_type": "markdown",
   "id": "fcb07ee1",
   "metadata": {},
   "source": [
    "Let’s also restrict our analysis to the same crop field area defined in the previous episode by clipping the rasters\n",
    "using a bounding box:"
   ]
  },
  {
   "cell_type": "code",
   "execution_count": null,
   "id": "735a6bc1",
   "metadata": {},
   "outputs": [],
   "source": [
    "bbox = (629_000, 5_804_000, 639_000, 5_814_000)\n",
    "red_clip = red.rio.clip_box(*bbox)\n",
    "nir_clip = nir.rio.clip_box(*bbox)"
   ]
  },
  {
   "cell_type": "markdown",
   "id": "82d300bd",
   "metadata": {},
   "source": [
    "We can now plot the two rasters. Using `robust=True` color values are stretched between the 2nd and 98th percentiles of\n",
    "the data, which results in clearer distinctions between high and low reflectances:"
   ]
  },
  {
   "cell_type": "code",
   "execution_count": null,
   "id": "49e0e42c",
   "metadata": {},
   "outputs": [],
   "source": [
    "red_clip.plot(robust=True)"
   ]
  },
  {
   "cell_type": "markdown",
   "id": "e3a63a37",
   "metadata": {},
   "source": [
    "<img src=\"attachment:fig/E09/red-band.png\" alt=\"red band image\" />"
   ]
  },
  {
   "cell_type": "code",
   "execution_count": null,
   "id": "4638f2e4",
   "metadata": {},
   "outputs": [],
   "source": [
    "nir_clip.plot(robust=True)"
   ]
  },
  {
   "cell_type": "markdown",
   "id": "3fc41f8f",
   "metadata": {},
   "source": [
    "<img src=\"attachment:fig/E09/NIR-band.png\" alt=\"near infra-red band image\" />\n",
    "\n",
    "It is immediately evident how crop fields (rectangular shapes in the central part of the two figures) appear as dark and\n",
    "bright spots in the red-visible and NIR wavelengths, respectively, suggesting the presence of leafy crop at the time of\n",
    "observation (end of March). The same fields would instead appear as dark spots in the off season.\n",
    "\n",
    "## Raster Math\n",
    "\n",
    "We can perform raster calculations by subtracting (or adding,\n",
    "multiplying, etc.) two rasters. In the geospatial world, we call this\n",
    "“raster math”, and typically it refers to operations on rasters that\n",
    "have the same width and height (including `nodata` pixels).\n",
    "We can check the shapes of the two rasters in the following way:"
   ]
  },
  {
   "cell_type": "code",
   "execution_count": null,
   "id": "5b7a6256",
   "metadata": {},
   "outputs": [],
   "source": [
    "print(red_clip.shape, nir_clip.shape)"
   ]
  },
  {
   "cell_type": "markdown",
   "id": "1843b3a9",
   "metadata": {},
   "source": [
    "``` output\n",
    "(1, 1000, 1000) (1, 500, 500)\n",
    "```\n",
    "\n",
    "Both rasters include a single band, but their width and height do not match.\n",
    "We can now use the `reproject_match` function, which both reprojects and clips\n",
    "a raster to the CRS and extent of another raster."
   ]
  },
  {
   "cell_type": "code",
   "execution_count": null,
   "id": "9d19a3c2",
   "metadata": {},
   "outputs": [],
   "source": [
    "red_clip_matched = red_clip.rio.reproject_match(nir_clip)\n",
    "print(red_clip_matched.shape)"
   ]
  },
  {
   "cell_type": "markdown",
   "id": "773d39ea",
   "metadata": {},
   "source": [
    "``` output\n",
    "(1, 500, 500)\n",
    "```\n",
    "\n",
    "Let’s now compute the NDVI as a new raster using the formula presented above.\n",
    "We’ll use `rioxarray` objects so that we can easily plot our result and keep\n",
    "track of the metadata."
   ]
  },
  {
   "cell_type": "code",
   "execution_count": null,
   "id": "7c2980ea",
   "metadata": {},
   "outputs": [],
   "source": [
    "ndvi = (nir_clip - red_clip_matched)/ (nir_clip + red_clip_matched)\n",
    "print(ndvi)"
   ]
  },
  {
   "cell_type": "markdown",
   "id": "f7eb198e",
   "metadata": {},
   "source": [
    "``` output\n",
    "<xarray.DataArray (band: 1, y: 500, x: 500)>\n",
    "array([[[ 0.7379576 ,  0.77153456,  0.54531944, ...,  0.39254385,\n",
    "          0.49227372,  0.4465174 ],\n",
    "        [ 0.7024894 ,  0.7074668 ,  0.3903298 , ...,  0.423283  ,\n",
    "          0.4706971 ,  0.45964912],\n",
    "        [ 0.6557818 ,  0.5610572 ,  0.46742022, ...,  0.4510345 ,\n",
    "          0.43815723,  0.6005133 ],\n",
    "        ...,\n",
    "        [ 0.02391171,  0.21843003,  0.02479339, ..., -0.50923485,\n",
    "         -0.53367877, -0.4955414 ],\n",
    "        [ 0.11376493,  0.17681159, -0.1673566 , ..., -0.5221932 ,\n",
    "         -0.5271318 , -0.4852753 ],\n",
    "        [ 0.45398772, -0.00518135,  0.03346133, ..., -0.5019455 ,\n",
    "         -0.4987013 , -0.49081364]]], dtype=float32)\n",
    "Coordinates:\n",
    "  * band         (band) int64 1\n",
    "  * x            (x) float64 6.29e+05 6.29e+05 6.29e+05 ... 6.39e+05 6.39e+05\n",
    "  * y            (y) float64 5.814e+06 5.814e+06 ... 5.804e+06 5.804e+06\n",
    "    spatial_ref  int64 0\n",
    "```\n",
    "\n",
    "We can now plot the output NDVI:"
   ]
  },
  {
   "cell_type": "code",
   "execution_count": null,
   "id": "0443cf28",
   "metadata": {},
   "outputs": [],
   "source": [
    "ndvi.plot()"
   ]
  },
  {
   "cell_type": "markdown",
   "id": "4384768f",
   "metadata": {},
   "source": [
    "<img src=\"attachment:fig/E09/NDVI-map.png\" alt=\"NDVI map\" />\n",
    "\n",
    "Notice that the range of values for the output NDVI is between -1 and 1.\n",
    "Does this make sense for the selected region?\n",
    "\n",
    "Maps are great, but it can also be informative to plot histograms of values to better understand the distribution. We can accomplish this using a built-in xarray method we have already been using: `plot`"
   ]
  },
  {
   "cell_type": "code",
   "execution_count": null,
   "id": "f3f6064f",
   "metadata": {},
   "outputs": [],
   "source": [
    "ndvi.plot.hist()"
   ]
  },
  {
   "cell_type": "markdown",
   "id": "b862a538",
   "metadata": {},
   "source": [
    "<img src=\"attachment:fig/E09/NDVI-hist.png\" alt=\"NDVI histogram\" />\n",
    "\n",
    "## Exercise: Explore NDVI Raster Values\n",
    "\n",
    "It’s often a good idea to explore the range of values in a raster dataset just like we might explore a dataset that we collected in the field. The histogram we just made is a good start but there’s more we can do to improve our understanding of the data.\n",
    "\n",
    "1.  What is the min and maximum value for the NDVI raster (`ndvi`) that we just created? Are there missing values?\n",
    "2.  Plot a histogram with 50 bins instead of 8. What do you notice that wasn’t clear before?\n",
    "3.  Plot the `ndvi` raster using breaks that make sense for the data.\n",
    "\n",
    "1.  Recall, if there were nodata values in our raster,\n",
    "    we would need to filter them out with `.where()`. Since we have loaded the rasters with `masked=True`, missing\n",
    "    values are already encoded as `np.nan`’s. The `ndvi` array actually includes a single missing value."
   ]
  },
  {
   "cell_type": "code",
   "execution_count": null,
   "id": "ad24f3e9",
   "metadata": {},
   "outputs": [],
   "source": [
    "print(ndvi.min().values)\n",
    "print(ndvi.max().values)\n",
    "print(ndvi.isnull().sum().values)"
   ]
  },
  {
   "cell_type": "markdown",
   "id": "2a3ffd33",
   "metadata": {},
   "source": [
    "``` output\n",
    "-0.99864775\n",
    "0.9995788\n",
    "1\n",
    "```\n",
    "\n",
    "1.  Increasing the number of bins gives us a much clearer view of the distribution. Also, there seem to be very few\n",
    "    NDVI values larger than ~0.9."
   ]
  },
  {
   "cell_type": "code",
   "execution_count": null,
   "id": "b3550281",
   "metadata": {},
   "outputs": [],
   "source": [
    "ndvi.plot.hist(bins=50)"
   ]
  },
  {
   "cell_type": "markdown",
   "id": "f42ca7eb",
   "metadata": {},
   "source": [
    "<img src=\"attachment:fig/E09/NDVI-hist-bins.png\" alt=\"NDVI histogram with 50 bins\" />\n",
    "\n",
    "1.  We can discretize the color bar by specifying the intervals via the `levels` argument to `plot()`.\n",
    "    Suppose we want to bin our data in the following intervals:\n",
    "\n",
    "-   $-1 \\le NDVI \\lt 0$ for water;\n",
    "-   $0 \\le NDVI \\lt 0.2$ for no vegetation;\n",
    "-   $0.2 \\le NDVI \\lt 0.7$ for sparse vegetation;\n",
    "-   $0.7 \\le NDVI \\lt 1$ for dense vegetation."
   ]
  },
  {
   "cell_type": "code",
   "execution_count": null,
   "id": "49d59690",
   "metadata": {},
   "outputs": [],
   "source": [
    "class_bins = (-1, 0., 0.2, 0.7, 1)\n",
    "ndvi.plot(levels=class_bins)"
   ]
  },
  {
   "cell_type": "markdown",
   "id": "99c84f99",
   "metadata": {},
   "source": [
    "<img src=\"attachment:fig/E09/NDVI-map-binned.png\" alt=\"binned NDVI map\" />\n",
    "\n",
    "Missing values can be interpolated from the values of neighbouring grid cells using the `.interpolate_na` method. We\n",
    "then save `ndvi` as a GeoTiff file:"
   ]
  },
  {
   "cell_type": "code",
   "execution_count": null,
   "id": "84d74409",
   "metadata": {},
   "outputs": [],
   "source": [
    "ndvi_nonan = ndvi.interpolate_na(dim=\"x\")\n",
    "ndvi_nonan.rio.to_raster(\"NDVI.tif\")"
   ]
  },
  {
   "cell_type": "markdown",
   "id": "c38fab56",
   "metadata": {},
   "source": [
    "## Classifying Continuous Rasters in Python\n",
    "\n",
    "Now that we have a sense of the distribution of our NDVI raster, we\n",
    "can reduce the complexity of our map by classifying it. Classification involves\n",
    "assigning each pixel in the raster to a class based on its value. In Python, we\n",
    "can accomplish this using the `numpy.digitize` function.\n",
    "\n",
    "First, we define NDVI classes based on a list of values, as defined in the last exercise:\n",
    "`[-1, 0., 0.2, 0.7, 1]`. When bins are ordered from\n",
    "low to high, as here, `numpy.digitize` assigns classes like so:\n",
    "\n",
    "<figure>\n",
    "<img src=\"attachment:fig/E09/NDVI-classes.jpg\" alt=\"NDVI classes\" />\n",
    "<figcaption>Source: Image created for this lesson (<a href=\"../LICENSE.md\">license</a>)</figcaption>\n",
    "</figure>\n",
    "\n",
    "Note that, by default, each class includes the left but not the right bound. This is not an issue here, since the\n",
    "computed range of NDVI values is fully contained in the open interval (-1; 1) (see exercise above)."
   ]
  },
  {
   "cell_type": "code",
   "execution_count": null,
   "id": "6ae05170",
   "metadata": {},
   "outputs": [],
   "source": [
    "import numpy as np\n",
    "import xarray\n",
    "\n",
    "# Defines the bins for pixel values\n",
    "class_bins = (-1, 0., 0.2, 0.7, 1)\n",
    "\n",
    "# The numpy.digitize function returns an unlabeled array, in this case, a\n",
    "# classified array without any metadata. That doesn't work--we need the\n",
    "# coordinates and other spatial metadata. We can get around this using\n",
    "# xarray.apply_ufunc, which can run the function across the data array while\n",
    "# preserving metadata.\n",
    "ndvi_classified = xarray.apply_ufunc(\n",
    "    np.digitize,\n",
    "    ndvi_nonan,\n",
    "    class_bins\n",
    ")"
   ]
  },
  {
   "cell_type": "markdown",
   "id": "87a2e564",
   "metadata": {},
   "source": [
    "Let’s now visualize the classified NDVI, customizing the plot with proper title and legend. We then export the\n",
    "figure in PNG format:"
   ]
  },
  {
   "cell_type": "code",
   "execution_count": null,
   "id": "c30995b5",
   "metadata": {},
   "outputs": [],
   "source": [
    "import earthpy.plot as ep\n",
    "import matplotlib.pyplot as plt\n",
    "\n",
    "from matplotlib.colors import ListedColormap\n",
    "\n",
    "# Define color map of the map legend\n",
    "ndvi_colors = [\"blue\", \"gray\", \"green\", \"darkgreen\"]\n",
    "ndvi_cmap = ListedColormap(ndvi_colors)\n",
    "\n",
    "# Define class names for the legend\n",
    "category_names = [\n",
    "    \"Water\",\n",
    "    \"No Vegetation\",\n",
    "    \"Sparse Vegetation\",\n",
    "    \"Dense Vegetation\"\n",
    "]\n",
    "\n",
    "# We need to know in what order the legend items should be arranged\n",
    "category_indices = list(range(len(category_names)))\n",
    "\n",
    "# Make the plot\n",
    "im = ndvi_classified.plot(cmap=ndvi_cmap, add_colorbar=False)\n",
    "plt.title(\"Classified NDVI\")\n",
    "# earthpy helps us by drawing a legend given an existing image plot and legend items, plus indices\n",
    "ep.draw_legend(im_ax=im, classes=category_indices, titles=category_names)\n",
    "\n",
    "# Save the figure\n",
    "plt.savefig(\"NDVI_classified.png\", bbox_inches=\"tight\", dpi=300)"
   ]
  },
  {
   "cell_type": "markdown",
   "id": "01c03309",
   "metadata": {},
   "source": [
    "<img src=\"attachment:fig/E09/NDVI-classified.png\" alt=\"classified NDVI map\" />\n",
    "\n",
    "We can finally export the classified NDVI raster object to a GeoTiff file. The `to_raster()` function\n",
    "by default writes the output file to your working directory unless you specify a\n",
    "full file path."
   ]
  },
  {
   "cell_type": "code",
   "execution_count": null,
   "id": "fd18b450",
   "metadata": {},
   "outputs": [],
   "source": [
    "ndvi_classified.rio.to_raster(\"NDVI_classified.tif\", dtype=\"int32\")"
   ]
  },
  {
   "cell_type": "markdown",
   "id": "db9d17b2",
   "metadata": {},
   "source": [
    "## Exercise: Compute the NDVI for the Texel island\n",
    "\n",
    "Data are often more interesting and powerful when we compare them across various\n",
    "locations. Let’s compare the computed NDVI map with the one of another region in the same Sentinel-2 scene:\n",
    "the [Texel island](https://en.wikipedia.org/wiki/Texel), located in the North Sea.\n",
    "\n",
    "1.  You should have the red- and the NIR-band rasters already loaded (`red` and `nir` variables, respectively).\n",
    "2.  Crop the two rasters using the following bounding box: `(610000, 5870000, 630000, 5900000)`. Don’t forget to check the shape of the data, and make sure the cropped areas have the same CRSs, heights and widths.\n",
    "3.  Compute the NDVI from the two raster layers and check the max/min values to make sure the data\n",
    "    is what you expect.\n",
    "4.  Plot the NDVI map and export the NDVI as a GeoTiff.\n",
    "5.  Compare the distributions of NDVI values for the two regions investigated.\n",
    "\n",
    "1.  We crop the area of interest using `clip_box`:"
   ]
  },
  {
   "cell_type": "code",
   "execution_count": null,
   "id": "81f007a6",
   "metadata": {},
   "outputs": [],
   "source": [
    "bbox_texel = (610000, 5870000, 630000, 5900000)\n",
    "nir_texel = nir.rio.clip_box(*bbox_texel)\n",
    "red_texel = red.rio.clip_box(*bbox_texel)"
   ]
  },
  {
   "cell_type": "markdown",
   "id": "01798d4c",
   "metadata": {},
   "source": [
    "1.  Reproject and clip one raster to the extent of the smaller raster using `reproject_match`. The lines of code below\n",
    "    assign a variable to the reprojected raster and calculate the NDVI."
   ]
  },
  {
   "cell_type": "code",
   "execution_count": null,
   "id": "59b6efc3",
   "metadata": {},
   "outputs": [],
   "source": [
    "red_texel_matched = red_texel.rio.reproject_match(nir_texel)\n",
    "ndvi_texel = (nir_texel - red_texel_matched)/ (nir_texel + red_texel_matched)"
   ]
  },
  {
   "cell_type": "markdown",
   "id": "f628bab8",
   "metadata": {},
   "source": [
    "1.  Plot the NDVI and save the raster data as a GeoTIFF file."
   ]
  },
  {
   "cell_type": "code",
   "execution_count": null,
   "id": "b11a7412",
   "metadata": {},
   "outputs": [],
   "source": [
    "ndvi_texel.plot()\n",
    "ndvi_texel.rio.to_raster(\"NDVI_Texel.tif\")"
   ]
  },
  {
   "cell_type": "markdown",
   "id": "878826b5",
   "metadata": {},
   "source": [
    "<img src=\"attachment:fig/E09/NDVI-map-Texel.png\" alt=\"NDVI map Texel\" />\n",
    "\n",
    "1.  Compute the NDVI histogram and compare it with the region that we have previously investigated. Many more grid\n",
    "    cells have negative NDVI values, since the area of interest includes much more water. Also, NDVI values close to\n",
    "    zero are more abundant, indicating the presence of bare ground (sand) regions."
   ]
  },
  {
   "cell_type": "code",
   "execution_count": null,
   "id": "296d3740",
   "metadata": {},
   "outputs": [],
   "source": [
    "ndvi_texel.plot.hist(bins=50)"
   ]
  },
  {
   "cell_type": "markdown",
   "id": "647cac19",
   "metadata": {},
   "source": [
    "<img src=\"attachment:fig/E09/NDVI-hist-Texel.png\" alt=\"NDVI histogram Texel\" />\n",
    "\n",
    "-   Python’s built-in math operators are fast and simple options for raster math.\n",
    "-   numpy.digitize can be used to classify raster values in order to generate a less complicated map."
   ]
  }
 ],
 "metadata": {
  "jupytext": {
   "main_language": "python"
  }
 },
 "nbformat": 4,
 "nbformat_minor": 5
}
